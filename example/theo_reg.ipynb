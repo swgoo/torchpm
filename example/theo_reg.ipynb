{
 "cells": [
  {
   "cell_type": "code",
   "execution_count": 6,
   "metadata": {},
   "outputs": [
    {
     "data": {
      "application/vnd.jupyter.widget-view+json": {
       "model_id": "1370a45d1bb74f91beae4d2c58d8ded5",
       "version_major": 2,
       "version_minor": 0
      },
      "text/plain": [
       "seed:   0%|          | 0/3 [00:00<?, ?it/s]"
      ]
     },
     "metadata": {},
     "output_type": "display_data"
    }
   ],
   "source": [
    "from pathlib import Path\n",
    "from typing import Dict, Tuple\n",
    "from tensorboard.backend.event_processing.event_accumulator import EventAccumulator\n",
    "from tqdm.notebook import tqdm\n",
    "import csv\n",
    "from datetime import datetime\n",
    "directory_path = Path(\"../lightning_logs/theo_cov_012913\")\n",
    "\n",
    "# result_csv_path = Path(f\"results_{datetime.now().strftime('%Y-%m-%d %H:%M:%S')}.csv\")\n",
    "result_csv_path = Path(f\"results.csv\")\n",
    "\n",
    "result_dict : Dict[Tuple[int, str], float] = {}\n",
    "\n",
    "f = open(result_csv_path, \"w\")\n",
    "writer = csv.writer(f)\n",
    "writer.writerow([\"seed\",\"model\",\"ofv\"])\n",
    "f.close()\n",
    "\n",
    "seeds = sorted([entry for entry in directory_path.iterdir() if entry.is_dir()])\n",
    "for seed in tqdm(seeds, desc='seed', leave=False):\n",
    "    seed_name = seed.name\n",
    "    models = sorted(list(seed.iterdir()))\n",
    "    for seed in models:\n",
    "        key = (seed_name, seed.name)\n",
    "        try:\n",
    "            version = sorted([entry for entry in seed.iterdir() if entry.is_dir()])[-1]\n",
    "            event = sorted(list(version.glob('event*')))[-1]\n",
    "            event_acc = EventAccumulator(str(event))\n",
    "            event_acc.Reload()\n",
    "            scalar_data = event_acc.Scalars(\"train_loss\")[-1].value\n",
    "            result_dict[key] = float(scalar_data)\n",
    "            f = open(result_csv_path, \"a\")\n",
    "            writer = csv.writer(f)\n",
    "            writer.writerow([str(seed_name), seed.name, scalar_data])\n",
    "            f.close()\n",
    "        except :\n",
    "            print(key)"
   ]
  },
  {
   "cell_type": "code",
   "execution_count": 7,
   "metadata": {},
   "outputs": [
    {
     "name": "stdout",
     "output_type": "stream",
     "text": [
      "120.10925292968739\n",
      "seed_1\n"
     ]
    },
    {
     "data": {
      "text/plain": [
       "['seed_1']"
      ]
     },
     "execution_count": 7,
     "metadata": {},
     "output_type": "execute_result"
    }
   ],
   "source": [
    "from dataclasses import dataclass\n",
    "import pandas as pd\n",
    "\n",
    "@dataclass\n",
    "class OFVs :\n",
    "    base_model : float\n",
    "    cov_1_2_3_model : float\n",
    "    cov_1_2_model :float\n",
    "    cov_1_3_model : float\n",
    "    cov_2_3_model : float\n",
    "    cov_1_model : float\n",
    "    cov_2_model : float\n",
    "    cov_3_model : float\n",
    "\n",
    "    def compare_ofv(self, less_cov_model, more_cov_model):\n",
    "        assert more_cov_model <= less_cov_model or  more_cov_model - less_cov_model < 3.84, print(more_cov_model-less_cov_model)\n",
    "\n",
    "    def check_ofv(self):\n",
    "        self.compare_ofv(self.cov_1_model, self.cov_1_2_3_model)\n",
    "        self.compare_ofv(self.cov_2_model, self.cov_1_2_3_model)\n",
    "        self.compare_ofv(self.cov_3_model, self.cov_1_2_3_model)\n",
    "\n",
    "        self.compare_ofv(self.cov_1_2_model, self.cov_1_2_3_model)\n",
    "        self.compare_ofv(self.cov_1_3_model, self.cov_1_2_3_model)\n",
    "        self.compare_ofv(self.cov_2_3_model, self.cov_1_2_3_model)\n",
    "\n",
    "        self.compare_ofv(self.cov_1_model, self.cov_1_2_model)\n",
    "        self.compare_ofv(self.cov_1_model, self.cov_1_3_model)\n",
    "                         \n",
    "        self.compare_ofv(self.cov_2_model, self.cov_1_2_model)\n",
    "        self.compare_ofv(self.cov_2_model, self.cov_2_3_model)\n",
    "\n",
    "        self.compare_ofv(self.cov_3_model, self.cov_1_3_model)\n",
    "        self.compare_ofv(self.cov_3_model, self.cov_2_3_model)\n",
    "\n",
    "        self.compare_ofv(self.base_model, self.cov_1_model)\n",
    "        self.compare_ofv(self.base_model, self.cov_2_model)\n",
    "        self.compare_ofv(self.base_model, self.cov_3_model)\n",
    "    \n",
    "    # def backward_elimination(self):\n",
    "    #     step1 = [1,2,3]\n",
    "    #     step2 = [[2,3],[1,3],[1,2]]\n",
    "    #     for i in step1:\n",
    "    #         for j in step2:\n",
    "                \n",
    "\n",
    "# results = Path(\".\").glob(\"result\")\n",
    "# result_path = sorted(list(results))[-1]\n",
    "df =pd.read_csv(\"results.csv\")\n",
    "df_by_model = df.groupby('seed')\n",
    "error_list = []\n",
    "for seed, d in df_by_model:\n",
    "    try :\n",
    "        ofv_dict = {}\n",
    "        for _, row in d.iterrows():\n",
    "            ofv_dict[row['model']] =row['ofv']\n",
    "        ofvs = OFVs(**ofv_dict)\n",
    "        ofvs.check_ofv()\n",
    "    except :\n",
    "        print(seed)\n",
    "        error_list.append(seed)\n",
    "\n",
    "error_list"
   ]
  }
 ],
 "metadata": {
  "kernelspec": {
   "display_name": "Python 3",
   "language": "python",
   "name": "python3"
  },
  "language_info": {
   "codemirror_mode": {
    "name": "ipython",
    "version": 3
   },
   "file_extension": ".py",
   "mimetype": "text/x-python",
   "name": "python",
   "nbconvert_exporter": "python",
   "pygments_lexer": "ipython3",
   "version": "3.10.13"
  }
 },
 "nbformat": 4,
 "nbformat_minor": 2
}
