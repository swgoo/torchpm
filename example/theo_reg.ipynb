{
 "cells": [
  {
   "cell_type": "code",
   "execution_count": 6,
   "metadata": {},
   "outputs": [
    {
     "data": {
      "application/vnd.jupyter.widget-view+json": {
       "model_id": "68abf88bcc1e4941809b60f0e01392a7",
       "version_major": 2,
       "version_minor": 0
      },
      "text/plain": [
       "seed:   0%|          | 0/26 [00:00<?, ?it/s]"
      ]
     },
     "metadata": {},
     "output_type": "display_data"
    },
    {
     "data": {
      "application/vnd.jupyter.widget-view+json": {
       "model_id": "1b100d8932b7467a8b29f09d67fbad61",
       "version_major": 2,
       "version_minor": 0
      },
      "text/plain": [
       "  0%|          | 0/8 [00:00<?, ?it/s]"
      ]
     },
     "metadata": {},
     "output_type": "display_data"
    },
    {
     "data": {
      "application/vnd.jupyter.widget-view+json": {
       "model_id": "ffae71c5f3394c92bd14673f76807c32",
       "version_major": 2,
       "version_minor": 0
      },
      "text/plain": [
       "  0%|          | 0/8 [00:00<?, ?it/s]"
      ]
     },
     "metadata": {},
     "output_type": "display_data"
    },
    {
     "data": {
      "application/vnd.jupyter.widget-view+json": {
       "model_id": "0be156e051bf448e9ce4cd3452c0cdb5",
       "version_major": 2,
       "version_minor": 0
      },
      "text/plain": [
       "  0%|          | 0/8 [00:00<?, ?it/s]"
      ]
     },
     "metadata": {},
     "output_type": "display_data"
    },
    {
     "data": {
      "application/vnd.jupyter.widget-view+json": {
       "model_id": "88f0416cbeed4f8693cc887b736dd569",
       "version_major": 2,
       "version_minor": 0
      },
      "text/plain": [
       "  0%|          | 0/8 [00:00<?, ?it/s]"
      ]
     },
     "metadata": {},
     "output_type": "display_data"
    },
    {
     "data": {
      "application/vnd.jupyter.widget-view+json": {
       "model_id": "ec46284cf27e47b6a4dd0b59cefdf569",
       "version_major": 2,
       "version_minor": 0
      },
      "text/plain": [
       "  0%|          | 0/8 [00:00<?, ?it/s]"
      ]
     },
     "metadata": {},
     "output_type": "display_data"
    },
    {
     "data": {
      "application/vnd.jupyter.widget-view+json": {
       "model_id": "32a70869921e4d1c8fe473026b29aa0e",
       "version_major": 2,
       "version_minor": 0
      },
      "text/plain": [
       "  0%|          | 0/8 [00:00<?, ?it/s]"
      ]
     },
     "metadata": {},
     "output_type": "display_data"
    },
    {
     "data": {
      "application/vnd.jupyter.widget-view+json": {
       "model_id": "0a42f4aab43c4fd2a2ba24e180df16dd",
       "version_major": 2,
       "version_minor": 0
      },
      "text/plain": [
       "  0%|          | 0/8 [00:00<?, ?it/s]"
      ]
     },
     "metadata": {},
     "output_type": "display_data"
    },
    {
     "data": {
      "application/vnd.jupyter.widget-view+json": {
       "model_id": "e9ecb0e6d35b483a923e2dfacffa9d99",
       "version_major": 2,
       "version_minor": 0
      },
      "text/plain": [
       "  0%|          | 0/8 [00:00<?, ?it/s]"
      ]
     },
     "metadata": {},
     "output_type": "display_data"
    },
    {
     "data": {
      "application/vnd.jupyter.widget-view+json": {
       "model_id": "684052b36d5545b781069babb2ff186b",
       "version_major": 2,
       "version_minor": 0
      },
      "text/plain": [
       "  0%|          | 0/8 [00:00<?, ?it/s]"
      ]
     },
     "metadata": {},
     "output_type": "display_data"
    },
    {
     "data": {
      "application/vnd.jupyter.widget-view+json": {
       "model_id": "20309f005ceb4777b7e9b8c2c58352e2",
       "version_major": 2,
       "version_minor": 0
      },
      "text/plain": [
       "  0%|          | 0/8 [00:00<?, ?it/s]"
      ]
     },
     "metadata": {},
     "output_type": "display_data"
    },
    {
     "data": {
      "application/vnd.jupyter.widget-view+json": {
       "model_id": "19d7996755b94867873aa3d9f25e2107",
       "version_major": 2,
       "version_minor": 0
      },
      "text/plain": [
       "  0%|          | 0/8 [00:00<?, ?it/s]"
      ]
     },
     "metadata": {},
     "output_type": "display_data"
    },
    {
     "data": {
      "application/vnd.jupyter.widget-view+json": {
       "model_id": "95b047c54a854d59b219f1091d027514",
       "version_major": 2,
       "version_minor": 0
      },
      "text/plain": [
       "  0%|          | 0/8 [00:00<?, ?it/s]"
      ]
     },
     "metadata": {},
     "output_type": "display_data"
    },
    {
     "data": {
      "application/vnd.jupyter.widget-view+json": {
       "model_id": "66449cffd0e54cb094867d9d090c709c",
       "version_major": 2,
       "version_minor": 0
      },
      "text/plain": [
       "  0%|          | 0/8 [00:00<?, ?it/s]"
      ]
     },
     "metadata": {},
     "output_type": "display_data"
    },
    {
     "data": {
      "application/vnd.jupyter.widget-view+json": {
       "model_id": "8783562308e143488a5d8bcb55108a84",
       "version_major": 2,
       "version_minor": 0
      },
      "text/plain": [
       "  0%|          | 0/8 [00:00<?, ?it/s]"
      ]
     },
     "metadata": {},
     "output_type": "display_data"
    },
    {
     "data": {
      "application/vnd.jupyter.widget-view+json": {
       "model_id": "3ebe4cea9e7241cf8b4ac59bd600762d",
       "version_major": 2,
       "version_minor": 0
      },
      "text/plain": [
       "  0%|          | 0/8 [00:00<?, ?it/s]"
      ]
     },
     "metadata": {},
     "output_type": "display_data"
    },
    {
     "data": {
      "application/vnd.jupyter.widget-view+json": {
       "model_id": "5285f3461e7a46acb6804a6afc1c4846",
       "version_major": 2,
       "version_minor": 0
      },
      "text/plain": [
       "  0%|          | 0/8 [00:00<?, ?it/s]"
      ]
     },
     "metadata": {},
     "output_type": "display_data"
    },
    {
     "data": {
      "application/vnd.jupyter.widget-view+json": {
       "model_id": "b0aa09f46ad54a5f92e95b906c61e81a",
       "version_major": 2,
       "version_minor": 0
      },
      "text/plain": [
       "  0%|          | 0/8 [00:00<?, ?it/s]"
      ]
     },
     "metadata": {},
     "output_type": "display_data"
    },
    {
     "data": {
      "application/vnd.jupyter.widget-view+json": {
       "model_id": "75dca09e5189419bb787faab733d0e9a",
       "version_major": 2,
       "version_minor": 0
      },
      "text/plain": [
       "  0%|          | 0/8 [00:00<?, ?it/s]"
      ]
     },
     "metadata": {},
     "output_type": "display_data"
    },
    {
     "data": {
      "application/vnd.jupyter.widget-view+json": {
       "model_id": "92101ec1f81e4597ab81ab81ec4ddeb0",
       "version_major": 2,
       "version_minor": 0
      },
      "text/plain": [
       "  0%|          | 0/8 [00:00<?, ?it/s]"
      ]
     },
     "metadata": {},
     "output_type": "display_data"
    },
    {
     "data": {
      "application/vnd.jupyter.widget-view+json": {
       "model_id": "15dfb16e055243848268001931266b27",
       "version_major": 2,
       "version_minor": 0
      },
      "text/plain": [
       "  0%|          | 0/6 [00:00<?, ?it/s]"
      ]
     },
     "metadata": {},
     "output_type": "display_data"
    },
    {
     "data": {
      "application/vnd.jupyter.widget-view+json": {
       "model_id": "434bbd8aecd74a41be47a688762182f9",
       "version_major": 2,
       "version_minor": 0
      },
      "text/plain": [
       "  0%|          | 0/8 [00:00<?, ?it/s]"
      ]
     },
     "metadata": {},
     "output_type": "display_data"
    },
    {
     "data": {
      "application/vnd.jupyter.widget-view+json": {
       "model_id": "c07528b5dd574f80bf8731fbc91c1b62",
       "version_major": 2,
       "version_minor": 0
      },
      "text/plain": [
       "  0%|          | 0/8 [00:00<?, ?it/s]"
      ]
     },
     "metadata": {},
     "output_type": "display_data"
    },
    {
     "data": {
      "application/vnd.jupyter.widget-view+json": {
       "model_id": "f9b93b1996fb41bd98d6a1a5768788e5",
       "version_major": 2,
       "version_minor": 0
      },
      "text/plain": [
       "  0%|          | 0/8 [00:00<?, ?it/s]"
      ]
     },
     "metadata": {},
     "output_type": "display_data"
    },
    {
     "data": {
      "application/vnd.jupyter.widget-view+json": {
       "model_id": "296b851d72f84cfabbdc88c717a967b3",
       "version_major": 2,
       "version_minor": 0
      },
      "text/plain": [
       "  0%|          | 0/8 [00:00<?, ?it/s]"
      ]
     },
     "metadata": {},
     "output_type": "display_data"
    },
    {
     "data": {
      "application/vnd.jupyter.widget-view+json": {
       "model_id": "3b466556a870414490996df45f0c3615",
       "version_major": 2,
       "version_minor": 0
      },
      "text/plain": [
       "  0%|          | 0/8 [00:00<?, ?it/s]"
      ]
     },
     "metadata": {},
     "output_type": "display_data"
    },
    {
     "data": {
      "application/vnd.jupyter.widget-view+json": {
       "model_id": "db439e5f15b44906b23592a1ac15686f",
       "version_major": 2,
       "version_minor": 0
      },
      "text/plain": [
       "  0%|          | 0/8 [00:00<?, ?it/s]"
      ]
     },
     "metadata": {},
     "output_type": "display_data"
    }
   ],
   "source": [
    "from pathlib import Path\n",
    "from typing import Dict, Tuple\n",
    "from tensorboard.backend.event_processing.event_accumulator import EventAccumulator\n",
    "from tqdm.notebook import tqdm\n",
    "import csv\n",
    "from datetime import datetime\n",
    "directory_path = Path(\"../lightning_logs/theo_cov\")\n",
    "\n",
    "result_csv_path = Path(f\"results_{datetime.now().strftime('%Y-%m-%d %H:%M:%S')}.csv\")\n",
    "\n",
    "result_dict : Dict[Tuple[int, str], float] = {}\n",
    "\n",
    "f = open(result_csv_path, \"w\")\n",
    "writer = csv.writer(f)\n",
    "writer.writerow([\"seed\",\"model\",\"ofv\"])\n",
    "f.close()\n",
    "\n",
    "seeds = sorted([entry for entry in directory_path.iterdir() if entry.is_dir()])\n",
    "for seed in tqdm(seeds, desc='seed', leave=False):\n",
    "    seed_name = seed.name\n",
    "    models = sorted(list(seed.iterdir()))\n",
    "    for seed in models:\n",
    "        key = (seed_name, seed.name)\n",
    "        try:\n",
    "            version = sorted([entry for entry in seed.iterdir() if entry.is_dir()])[-1]\n",
    "            event = sorted(list(version.glob('event*')))[-1]\n",
    "            event_acc = EventAccumulator(str(event))\n",
    "            event_acc.Reload()\n",
    "            scalar_data = event_acc.Scalars(\"train_loss\")[-1].value\n",
    "            result_dict[key] = float(scalar_data)\n",
    "            f = open(result_csv_path, \"a\")\n",
    "            writer = csv.writer(f)\n",
    "            writer.writerow([str(seed_name), seed.name, scalar_data])\n",
    "            f.close()\n",
    "        except :\n",
    "            print(key)"
   ]
  },
  {
   "cell_type": "code",
   "execution_count": 7,
   "metadata": {},
   "outputs": [
    {
     "name": "stdout",
     "output_type": "stream",
     "text": [
      "13.2506103515625\n",
      "seed_11\n",
      "99.82141113281227\n",
      "seed_17\n",
      "666.2071628570557\n",
      "seed_27\n",
      "seed_29\n"
     ]
    },
    {
     "data": {
      "text/plain": [
       "4"
      ]
     },
     "execution_count": 7,
     "metadata": {},
     "output_type": "execute_result"
    }
   ],
   "source": [
    "from dataclasses import dataclass\n",
    "import pandas as pd\n",
    "\n",
    "@dataclass\n",
    "class OFVs :\n",
    "    base_model : float\n",
    "    cov_1_2_3_model : float\n",
    "    cov_1_2_model :float\n",
    "    cov_1_3_model : float\n",
    "    cov_2_3_model : float\n",
    "    cov_1_model : float\n",
    "    cov_2_model : float\n",
    "    cov_3_model : float\n",
    "\n",
    "    def compare_ofv(self, less_cov_model, more_cov_model):\n",
    "        assert more_cov_model <= less_cov_model or  more_cov_model - less_cov_model < 3.84, print(more_cov_model-less_cov_model)\n",
    "\n",
    "    def check_ofv(self):\n",
    "        self.compare_ofv(self.cov_1_model, self.cov_1_2_3_model)\n",
    "        self.compare_ofv(self.cov_2_model, self.cov_1_2_3_model)\n",
    "        self.compare_ofv(self.cov_3_model, self.cov_1_2_3_model)\n",
    "\n",
    "        self.compare_ofv(self.cov_1_2_model, self.cov_1_2_3_model)\n",
    "        self.compare_ofv(self.cov_1_3_model, self.cov_1_2_3_model)\n",
    "        self.compare_ofv(self.cov_2_3_model, self.cov_1_2_3_model)\n",
    "\n",
    "        self.compare_ofv(self.cov_1_model, self.cov_1_2_model)\n",
    "        self.compare_ofv(self.cov_1_model, self.cov_1_3_model)\n",
    "                         \n",
    "        self.compare_ofv(self.cov_2_model, self.cov_1_2_model)\n",
    "        self.compare_ofv(self.cov_2_model, self.cov_2_3_model)\n",
    "\n",
    "        self.compare_ofv(self.cov_3_model, self.cov_1_3_model)\n",
    "        self.compare_ofv(self.cov_3_model, self.cov_2_3_model)\n",
    "\n",
    "        self.compare_ofv(self.base_model, self.cov_1_model)\n",
    "        self.compare_ofv(self.base_model, self.cov_2_model)\n",
    "        self.compare_ofv(self.base_model, self.cov_3_model)\n",
    "    \n",
    "    # def backward_elimination(self):\n",
    "    #     step1 = [1,2,3]\n",
    "    #     step2 = [[2,3],[1,3],[1,2]]\n",
    "    #     for i in step1:\n",
    "    #         for j in step2:\n",
    "                \n",
    "\n",
    "# results = Path(\".\").glob(\"result\")\n",
    "# result_path = sorted(list(results))[-1]\n",
    "df =pd.read_csv(\"results_2024-01-28 23:28:14.csv\")\n",
    "df_by_model = df.groupby('seed')\n",
    "error_list = []\n",
    "for seed, d in df_by_model:\n",
    "    try :\n",
    "        ofv_dict = {}\n",
    "        for _, row in d.iterrows():\n",
    "            ofv_dict[row['model']] =row['ofv']\n",
    "        ofvs = OFVs(**ofv_dict)\n",
    "        ofvs.check_ofv()\n",
    "    except :\n",
    "        print(seed)\n",
    "        error_list.append(seed)\n",
    "\n",
    "error_list.__len__()"
   ]
  },
  {
   "cell_type": "code",
   "execution_count": 8,
   "metadata": {},
   "outputs": [
    {
     "data": {
      "text/plain": [
       "['seed_11', 'seed_17', 'seed_27', 'seed_29']"
      ]
     },
     "execution_count": 8,
     "metadata": {},
     "output_type": "execute_result"
    }
   ],
   "source": [
    "error_list"
   ]
  },
  {
   "cell_type": "code",
   "execution_count": 9,
   "metadata": {},
   "outputs": [
    {
     "data": {
      "text/html": [
       "<div>\n",
       "<style scoped>\n",
       "    .dataframe tbody tr th:only-of-type {\n",
       "        vertical-align: middle;\n",
       "    }\n",
       "\n",
       "    .dataframe tbody tr th {\n",
       "        vertical-align: top;\n",
       "    }\n",
       "\n",
       "    .dataframe thead th {\n",
       "        text-align: right;\n",
       "    }\n",
       "</style>\n",
       "<table border=\"1\" class=\"dataframe\">\n",
       "  <thead>\n",
       "    <tr style=\"text-align: right;\">\n",
       "      <th></th>\n",
       "      <th>seed</th>\n",
       "      <th>model</th>\n",
       "      <th>ofv</th>\n",
       "    </tr>\n",
       "  </thead>\n",
       "  <tbody>\n",
       "    <tr>\n",
       "      <th>56</th>\n",
       "      <td>seed_17</td>\n",
       "      <td>base_model</td>\n",
       "      <td>3335.534180</td>\n",
       "    </tr>\n",
       "    <tr>\n",
       "      <th>57</th>\n",
       "      <td>seed_17</td>\n",
       "      <td>cov_1_2_3_model</td>\n",
       "      <td>1662.333740</td>\n",
       "    </tr>\n",
       "    <tr>\n",
       "      <th>58</th>\n",
       "      <td>seed_17</td>\n",
       "      <td>cov_1_2_model</td>\n",
       "      <td>1664.220215</td>\n",
       "    </tr>\n",
       "    <tr>\n",
       "      <th>59</th>\n",
       "      <td>seed_17</td>\n",
       "      <td>cov_1_3_model</td>\n",
       "      <td>1841.487671</td>\n",
       "    </tr>\n",
       "    <tr>\n",
       "      <th>60</th>\n",
       "      <td>seed_17</td>\n",
       "      <td>cov_1_model</td>\n",
       "      <td>1741.666260</td>\n",
       "    </tr>\n",
       "    <tr>\n",
       "      <th>61</th>\n",
       "      <td>seed_17</td>\n",
       "      <td>cov_2_3_model</td>\n",
       "      <td>1694.515625</td>\n",
       "    </tr>\n",
       "    <tr>\n",
       "      <th>62</th>\n",
       "      <td>seed_17</td>\n",
       "      <td>cov_2_model</td>\n",
       "      <td>1796.869263</td>\n",
       "    </tr>\n",
       "    <tr>\n",
       "      <th>63</th>\n",
       "      <td>seed_17</td>\n",
       "      <td>cov_3_model</td>\n",
       "      <td>1841.495605</td>\n",
       "    </tr>\n",
       "  </tbody>\n",
       "</table>\n",
       "</div>"
      ],
      "text/plain": [
       "       seed            model          ofv\n",
       "56  seed_17       base_model  3335.534180\n",
       "57  seed_17  cov_1_2_3_model  1662.333740\n",
       "58  seed_17    cov_1_2_model  1664.220215\n",
       "59  seed_17    cov_1_3_model  1841.487671\n",
       "60  seed_17      cov_1_model  1741.666260\n",
       "61  seed_17    cov_2_3_model  1694.515625\n",
       "62  seed_17      cov_2_model  1796.869263\n",
       "63  seed_17      cov_3_model  1841.495605"
      ]
     },
     "execution_count": 9,
     "metadata": {},
     "output_type": "execute_result"
    }
   ],
   "source": [
    "df[df['seed']=='seed_17']"
   ]
  }
 ],
 "metadata": {
  "kernelspec": {
   "display_name": "Python 3",
   "language": "python",
   "name": "python3"
  },
  "language_info": {
   "codemirror_mode": {
    "name": "ipython",
    "version": 3
   },
   "file_extension": ".py",
   "mimetype": "text/x-python",
   "name": "python",
   "nbconvert_exporter": "python",
   "pygments_lexer": "ipython3",
   "version": "3.10.13"
  }
 },
 "nbformat": 4,
 "nbformat_minor": 2
}
