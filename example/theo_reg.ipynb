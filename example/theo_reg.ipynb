{
 "cells": [
  {
   "cell_type": "code",
   "execution_count": 1,
   "metadata": {},
   "outputs": [
    {
     "name": "stderr",
     "output_type": "stream",
     "text": [
      "100%|██████████| 33/33 [01:17<00:00,  2.34s/it]\n"
     ]
    }
   ],
   "source": [
    "from pathlib import Path\n",
    "from typing import Dict, Tuple\n",
    "from tensorboard.backend.event_processing.event_accumulator import EventAccumulator\n",
    "from tqdm import tqdm\n",
    "import csv\n",
    "# Specify the directory path\n",
    "# directory_path = Path(\"result\")\n",
    "directory_path = Path(\"../lightning_logs/2024-01-22 08:06:19/\")\n",
    "\n",
    "result_csv_path = Path(\"results2.csv\")\n",
    "\n",
    "result_dict : Dict[Tuple[int, str], float] = {}\n",
    "\n",
    "f = open(result_csv_path, \"w\")\n",
    "writer = csv.writer(f)\n",
    "writer.writerow([\"iter\",\"model\",\"ofv\"])\n",
    "f.close()\n",
    "\n",
    "iterations = [entry for entry in directory_path.iterdir() if entry.is_dir()]\n",
    "for models in tqdm(iterations):\n",
    "    iteration = int(models.name)\n",
    "    for model in models.iterdir():\n",
    "        key = (iteration, model.name)\n",
    "        logs = next(model.iterdir())\n",
    "        versions = next(logs.iterdir())\n",
    "        event = next(versions.glob('event*'))\n",
    "        event_acc = EventAccumulator(str(event))\n",
    "        event_acc.Reload()\n",
    "        scalar_data = event_acc.Scalars(\"train_loss\")[-1].value\n",
    "        result_dict[key] = float(scalar_data)\n",
    "        f = open(result_csv_path, \"a\")\n",
    "        writer = csv.writer(f)\n",
    "        writer.writerow([str(iteration), model.name, scalar_data])\n",
    "        f.close()"
   ]
  },
  {
   "cell_type": "code",
   "execution_count": 5,
   "metadata": {},
   "outputs": [
    {
     "name": "stdout",
     "output_type": "stream",
     "text": [
      "18.484588623046875\n",
      "11\n",
      "12.390106201171875\n",
      "16\n",
      "4.4657745361328125\n",
      "24\n",
      "32\n"
     ]
    },
    {
     "data": {
      "text/plain": [
       "4"
      ]
     },
     "execution_count": 5,
     "metadata": {},
     "output_type": "execute_result"
    }
   ],
   "source": [
    "from dataclasses import dataclass\n",
    "import pandas as pd\n",
    "\n",
    "@dataclass\n",
    "class OFVs :\n",
    "    base_model : float\n",
    "    cov_1_2_3_model : float\n",
    "    cov_1_2_model :float\n",
    "    cov_1_3_model : float\n",
    "    cov_2_3_model : float\n",
    "    cov_1_model : float\n",
    "    cov_2_model : float\n",
    "    cov_3_model : float\n",
    "\n",
    "    def compare_ofv(self, less_cov_model, more_cov_model):\n",
    "        assert more_cov_model <= less_cov_model or  more_cov_model - less_cov_model < 3.84, print(more_cov_model-less_cov_model)\n",
    "\n",
    "    def check_ofv(self):\n",
    "        self.compare_ofv(self.cov_1_model, self.cov_1_2_3_model)\n",
    "        self.compare_ofv(self.cov_2_model, self.cov_1_2_3_model)\n",
    "        self.compare_ofv(self.cov_3_model, self.cov_1_2_3_model)\n",
    "\n",
    "        self.compare_ofv(self.cov_1_2_model, self.cov_1_2_3_model)\n",
    "        self.compare_ofv(self.cov_1_3_model, self.cov_1_2_3_model)\n",
    "        self.compare_ofv(self.cov_2_3_model, self.cov_1_2_3_model)\n",
    "\n",
    "        self.compare_ofv(self.cov_1_model, self.cov_1_2_model)\n",
    "        self.compare_ofv(self.cov_1_model, self.cov_1_3_model)\n",
    "                         \n",
    "        self.compare_ofv(self.cov_2_model, self.cov_1_2_model)\n",
    "        self.compare_ofv(self.cov_2_model, self.cov_2_3_model)\n",
    "\n",
    "        self.compare_ofv(self.cov_3_model, self.cov_1_3_model)\n",
    "        self.compare_ofv(self.cov_3_model, self.cov_2_3_model)\n",
    "\n",
    "        self.compare_ofv(self.base_model, self.cov_1_model)\n",
    "        self.compare_ofv(self.base_model, self.cov_2_model)\n",
    "        self.compare_ofv(self.base_model, self.cov_3_model)\n",
    "    \n",
    "    # def backward_elimination(self):\n",
    "    #     step1 = [1,2,3]\n",
    "    #     step2 = [[2,3],[1,3],[1,2]]\n",
    "    #     for i in step1:\n",
    "    #         for j in step2:\n",
    "                \n",
    "        \n",
    "\n",
    "\n",
    "df =pd.read_csv('results2.csv')\n",
    "df_by_iter = df.groupby('iter')\n",
    "error_list = []\n",
    "for iter, d in df_by_iter:\n",
    "    try :\n",
    "        ofv_dict = {}\n",
    "        for _, row in d.iterrows():\n",
    "            ofv_dict[row['model']] =row['ofv']\n",
    "        ofvs = OFVs(**ofv_dict)\n",
    "        ofvs.check_ofv()\n",
    "    except :\n",
    "        print(iter)\n",
    "        error_list.append(iter)\n",
    "\n",
    "error_list.__len__()"
   ]
  }
 ],
 "metadata": {
  "kernelspec": {
   "display_name": "Python 3",
   "language": "python",
   "name": "python3"
  },
  "language_info": {
   "codemirror_mode": {
    "name": "ipython",
    "version": 3
   },
   "file_extension": ".py",
   "mimetype": "text/x-python",
   "name": "python",
   "nbconvert_exporter": "python",
   "pygments_lexer": "ipython3",
   "version": "3.10.13"
  }
 },
 "nbformat": 4,
 "nbformat_minor": 2
}
