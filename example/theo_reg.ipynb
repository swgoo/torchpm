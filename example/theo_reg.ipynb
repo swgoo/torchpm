{
 "cells": [
  {
   "cell_type": "code",
   "execution_count": 2,
   "metadata": {},
   "outputs": [
    {
     "data": {
      "application/vnd.jupyter.widget-view+json": {
       "model_id": "b43a19bc58d8496f9bd43beb271cd5a4",
       "version_major": 2,
       "version_minor": 0
      },
      "text/plain": [
       "model:   0%|          | 0/8 [00:00<?, ?it/s]"
      ]
     },
     "metadata": {},
     "output_type": "display_data"
    },
    {
     "data": {
      "application/vnd.jupyter.widget-view+json": {
       "model_id": "f16053a4d9aa40aebaf5324429de1933",
       "version_major": 2,
       "version_minor": 0
      },
      "text/plain": [
       "seed:   0%|          | 0/100 [00:00<?, ?it/s]"
      ]
     },
     "metadata": {},
     "output_type": "display_data"
    },
    {
     "data": {
      "application/vnd.jupyter.widget-view+json": {
       "model_id": "541220d4ac294ca29a46ba01e564400c",
       "version_major": 2,
       "version_minor": 0
      },
      "text/plain": [
       "seed:   0%|          | 0/100 [00:00<?, ?it/s]"
      ]
     },
     "metadata": {},
     "output_type": "display_data"
    },
    {
     "data": {
      "application/vnd.jupyter.widget-view+json": {
       "model_id": "4596dc5842564519924e27d17af042b2",
       "version_major": 2,
       "version_minor": 0
      },
      "text/plain": [
       "seed:   0%|          | 0/100 [00:00<?, ?it/s]"
      ]
     },
     "metadata": {},
     "output_type": "display_data"
    },
    {
     "data": {
      "application/vnd.jupyter.widget-view+json": {
       "model_id": "087619d2f9454e0f805a33c0a8532c25",
       "version_major": 2,
       "version_minor": 0
      },
      "text/plain": [
       "seed:   0%|          | 0/100 [00:00<?, ?it/s]"
      ]
     },
     "metadata": {},
     "output_type": "display_data"
    },
    {
     "data": {
      "application/vnd.jupyter.widget-view+json": {
       "model_id": "23bbb8a376684af890b2119bed0349fc",
       "version_major": 2,
       "version_minor": 0
      },
      "text/plain": [
       "seed:   0%|          | 0/100 [00:00<?, ?it/s]"
      ]
     },
     "metadata": {},
     "output_type": "display_data"
    },
    {
     "data": {
      "application/vnd.jupyter.widget-view+json": {
       "model_id": "eaab6a37bf4b4230881ea784fcfcd207",
       "version_major": 2,
       "version_minor": 0
      },
      "text/plain": [
       "seed:   0%|          | 0/100 [00:00<?, ?it/s]"
      ]
     },
     "metadata": {},
     "output_type": "display_data"
    },
    {
     "data": {
      "application/vnd.jupyter.widget-view+json": {
       "model_id": "bf2e2f35d9b3420b8b6b11a3d3146eeb",
       "version_major": 2,
       "version_minor": 0
      },
      "text/plain": [
       "seed:   0%|          | 0/100 [00:00<?, ?it/s]"
      ]
     },
     "metadata": {},
     "output_type": "display_data"
    },
    {
     "data": {
      "application/vnd.jupyter.widget-view+json": {
       "model_id": "608ae27162054e14baec3881cf465f90",
       "version_major": 2,
       "version_minor": 0
      },
      "text/plain": [
       "seed:   0%|          | 0/100 [00:00<?, ?it/s]"
      ]
     },
     "metadata": {},
     "output_type": "display_data"
    }
   ],
   "source": [
    "from pathlib import Path\n",
    "from typing import Dict, Tuple\n",
    "from tensorboard.backend.event_processing.event_accumulator import EventAccumulator\n",
    "from tqdm.notebook import tqdm\n",
    "import csv\n",
    "from datetime import datetime\n",
    "directory_path = Path(\"../lightning_logs/theo_cov_more_dimension\")\n",
    "\n",
    "result_csv_path = Path(f\"results_{datetime.now().strftime('%Y-%m-%d %H:%M:%S')}.csv\")\n",
    "\n",
    "result_dict : Dict[Tuple[int, str], float] = {}\n",
    "\n",
    "f = open(result_csv_path, \"w\")\n",
    "writer = csv.writer(f)\n",
    "writer.writerow([\"iter\",\"model\",\"ofv\"])\n",
    "f.close()\n",
    "\n",
    "iterations = sorted([entry for entry in directory_path.iterdir() if entry.is_dir()])\n",
    "for models in tqdm(iterations, desc='model', leave=False):\n",
    "    iteration = models.name\n",
    "    seeds = sorted(list(models.iterdir()))\n",
    "    for model in tqdm(seeds, desc=\"seed\", leave=False):\n",
    "        key = (iteration, model.name)\n",
    "        try:\n",
    "            event = sorted(list(model.glob('event*')))[-1]\n",
    "            event_acc = EventAccumulator(str(event))\n",
    "            event_acc.Reload()\n",
    "            scalar_data = event_acc.Scalars(\"val_loss\")[-1].value\n",
    "            result_dict[key] = float(scalar_data)\n",
    "            f = open(result_csv_path, \"a\")\n",
    "            writer = csv.writer(f)\n",
    "            writer.writerow([str(iteration), model.name, scalar_data])\n",
    "            f.close()\n",
    "        except :\n",
    "            print(key)"
   ]
  },
  {
   "cell_type": "code",
   "execution_count": 21,
   "metadata": {},
   "outputs": [
    {
     "name": "stdout",
     "output_type": "stream",
     "text": [
      "17.7713623046875\n",
      "seed_42\n",
      "82.75309753417969\n",
      "seed_59\n",
      "33.211044311523466\n",
      "seed_61\n",
      "51.614013671875\n",
      "seed_82\n",
      "4.383071899414091\n",
      "seed_90\n"
     ]
    },
    {
     "data": {
      "text/plain": [
       "5"
      ]
     },
     "execution_count": 21,
     "metadata": {},
     "output_type": "execute_result"
    }
   ],
   "source": [
    "from dataclasses import dataclass\n",
    "import pandas as pd\n",
    "\n",
    "@dataclass\n",
    "class OFVs :\n",
    "    base_model : float\n",
    "    cov_1_2_3_model : float\n",
    "    cov_1_2_model :float\n",
    "    cov_1_3_model : float\n",
    "    cov_2_3_model : float\n",
    "    cov_1_model : float\n",
    "    cov_2_model : float\n",
    "    cov_3_model : float\n",
    "\n",
    "    def compare_ofv(self, less_cov_model, more_cov_model):\n",
    "        assert more_cov_model <= less_cov_model or  more_cov_model - less_cov_model < 3.84, print(more_cov_model-less_cov_model)\n",
    "\n",
    "    def check_ofv(self):\n",
    "        self.compare_ofv(self.cov_1_model, self.cov_1_2_3_model)\n",
    "        self.compare_ofv(self.cov_2_model, self.cov_1_2_3_model)\n",
    "        self.compare_ofv(self.cov_3_model, self.cov_1_2_3_model)\n",
    "\n",
    "        self.compare_ofv(self.cov_1_2_model, self.cov_1_2_3_model)\n",
    "        self.compare_ofv(self.cov_1_3_model, self.cov_1_2_3_model)\n",
    "        self.compare_ofv(self.cov_2_3_model, self.cov_1_2_3_model)\n",
    "\n",
    "        self.compare_ofv(self.cov_1_model, self.cov_1_2_model)\n",
    "        self.compare_ofv(self.cov_1_model, self.cov_1_3_model)\n",
    "                         \n",
    "        self.compare_ofv(self.cov_2_model, self.cov_1_2_model)\n",
    "        self.compare_ofv(self.cov_2_model, self.cov_2_3_model)\n",
    "\n",
    "        self.compare_ofv(self.cov_3_model, self.cov_1_3_model)\n",
    "        self.compare_ofv(self.cov_3_model, self.cov_2_3_model)\n",
    "\n",
    "        self.compare_ofv(self.base_model, self.cov_1_model)\n",
    "        self.compare_ofv(self.base_model, self.cov_2_model)\n",
    "        self.compare_ofv(self.base_model, self.cov_3_model)\n",
    "    \n",
    "    # def backward_elimination(self):\n",
    "    #     step1 = [1,2,3]\n",
    "    #     step2 = [[2,3],[1,3],[1,2]]\n",
    "    #     for i in step1:\n",
    "    #         for j in step2:\n",
    "                \n",
    "        \n",
    "\n",
    "\n",
    "df =pd.read_csv('results_2024-01-28 00:40:49.csv')\n",
    "df_by_model = df.groupby('model')\n",
    "error_list = []\n",
    "for iter, d in df_by_model:\n",
    "    try :\n",
    "        ofv_dict = {}\n",
    "        for _, row in d.iterrows():\n",
    "            ofv_dict[row['iter']] =row['ofv']\n",
    "        ofvs = OFVs(**ofv_dict)\n",
    "        ofvs.check_ofv()\n",
    "    except :\n",
    "        print(iter)\n",
    "        error_list.append(iter)\n",
    "\n",
    "error_list.__len__()"
   ]
  },
  {
   "cell_type": "code",
   "execution_count": 22,
   "metadata": {},
   "outputs": [
    {
     "data": {
      "text/plain": [
       "['seed_42', 'seed_59', 'seed_61', 'seed_82', 'seed_90']"
      ]
     },
     "execution_count": 22,
     "metadata": {},
     "output_type": "execute_result"
    }
   ],
   "source": [
    "error_list"
   ]
  },
  {
   "cell_type": "code",
   "execution_count": 20,
   "metadata": {},
   "outputs": [
    {
     "data": {
      "text/html": [
       "<div>\n",
       "<style scoped>\n",
       "    .dataframe tbody tr th:only-of-type {\n",
       "        vertical-align: middle;\n",
       "    }\n",
       "\n",
       "    .dataframe tbody tr th {\n",
       "        vertical-align: top;\n",
       "    }\n",
       "\n",
       "    .dataframe thead th {\n",
       "        text-align: right;\n",
       "    }\n",
       "</style>\n",
       "<table border=\"1\" class=\"dataframe\">\n",
       "  <thead>\n",
       "    <tr style=\"text-align: right;\">\n",
       "      <th></th>\n",
       "      <th>iter</th>\n",
       "      <th>model</th>\n",
       "      <th>ofv</th>\n",
       "    </tr>\n",
       "  </thead>\n",
       "  <tbody>\n",
       "    <tr>\n",
       "      <th>11</th>\n",
       "      <td>base_model</td>\n",
       "      <td>seed_19</td>\n",
       "      <td>2495.098877</td>\n",
       "    </tr>\n",
       "    <tr>\n",
       "      <th>111</th>\n",
       "      <td>cov_1_2_3_model</td>\n",
       "      <td>seed_19</td>\n",
       "      <td>140.816162</td>\n",
       "    </tr>\n",
       "    <tr>\n",
       "      <th>211</th>\n",
       "      <td>cov_1_2_model</td>\n",
       "      <td>seed_19</td>\n",
       "      <td>142.351501</td>\n",
       "    </tr>\n",
       "    <tr>\n",
       "      <th>311</th>\n",
       "      <td>cov_1_3_model</td>\n",
       "      <td>seed_19</td>\n",
       "      <td>141.645020</td>\n",
       "    </tr>\n",
       "    <tr>\n",
       "      <th>411</th>\n",
       "      <td>cov_1_model</td>\n",
       "      <td>seed_19</td>\n",
       "      <td>142.363861</td>\n",
       "    </tr>\n",
       "    <tr>\n",
       "      <th>511</th>\n",
       "      <td>cov_2_3_model</td>\n",
       "      <td>seed_19</td>\n",
       "      <td>142.035522</td>\n",
       "    </tr>\n",
       "    <tr>\n",
       "      <th>611</th>\n",
       "      <td>cov_2_model</td>\n",
       "      <td>seed_19</td>\n",
       "      <td>142.344727</td>\n",
       "    </tr>\n",
       "    <tr>\n",
       "      <th>711</th>\n",
       "      <td>cov_3_model</td>\n",
       "      <td>seed_19</td>\n",
       "      <td>142.150269</td>\n",
       "    </tr>\n",
       "  </tbody>\n",
       "</table>\n",
       "</div>"
      ],
      "text/plain": [
       "                iter    model          ofv\n",
       "11        base_model  seed_19  2495.098877\n",
       "111  cov_1_2_3_model  seed_19   140.816162\n",
       "211    cov_1_2_model  seed_19   142.351501\n",
       "311    cov_1_3_model  seed_19   141.645020\n",
       "411      cov_1_model  seed_19   142.363861\n",
       "511    cov_2_3_model  seed_19   142.035522\n",
       "611      cov_2_model  seed_19   142.344727\n",
       "711      cov_3_model  seed_19   142.150269"
      ]
     },
     "execution_count": 20,
     "metadata": {},
     "output_type": "execute_result"
    }
   ],
   "source": [
    "df[df['model']=='seed_19']"
   ]
  }
 ],
 "metadata": {
  "kernelspec": {
   "display_name": "Python 3",
   "language": "python",
   "name": "python3"
  },
  "language_info": {
   "codemirror_mode": {
    "name": "ipython",
    "version": 3
   },
   "file_extension": ".py",
   "mimetype": "text/x-python",
   "name": "python",
   "nbconvert_exporter": "python",
   "pygments_lexer": "ipython3",
   "version": "3.10.13"
  }
 },
 "nbformat": 4,
 "nbformat_minor": 2
}
