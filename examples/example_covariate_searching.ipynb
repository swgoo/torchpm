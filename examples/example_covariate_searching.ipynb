{
  "cells": [
    {
      "cell_type": "markdown",
      "metadata": {
        "colab_type": "text",
        "id": "view-in-github"
      },
      "source": [
        "<a href=\"https://colab.research.google.com/github/yeoun9/torchpm/blob/main/examples/example.ipynb\" target=\"_parent\"><img src=\"https://colab.research.google.com/assets/colab-badge.svg\" alt=\"Open In Colab\"/></a>"
      ]
    },
    {
      "cell_type": "code",
      "execution_count": 20,
      "metadata": {},
      "outputs": [
        {
          "name": "stdout",
          "output_type": "stream",
          "text": [
            "Collecting git+https://github.com/yeoun9/torchpm.git"
          ]
        },
        {
          "name": "stderr",
          "output_type": "stream",
          "text": [
            "WARNING: Ignoring invalid distribution -orchpm (c:\\users\\sungwoo\\appdata\\local\\programs\\python\\python39\\lib\\site-packages)\n",
            "WARNING: Ignoring invalid distribution -orchpm (c:\\users\\sungwoo\\appdata\\local\\programs\\python\\python39\\lib\\site-packages)\n",
            "  Running command git clone --filter=blob:none --quiet https://github.com/yeoun9/torchpm.git 'C:\\Users\\sungwoo\\AppData\\Local\\Temp\\pip-req-build-6qk4p0t5'\n",
            "WARNING: Ignoring invalid distribution -orchpm (c:\\users\\sungwoo\\appdata\\local\\programs\\python\\python39\\lib\\site-packages)\n",
            "WARNING: Ignoring invalid distribution -orchpm (c:\\users\\sungwoo\\appdata\\local\\programs\\python\\python39\\lib\\site-packages)\n",
            "WARNING: Ignoring invalid distribution -orchpm (c:\\users\\sungwoo\\appdata\\local\\programs\\python\\python39\\lib\\site-packages)\n",
            "WARNING: Ignoring invalid distribution -orchpm (c:\\users\\sungwoo\\appdata\\local\\programs\\python\\python39\\lib\\site-packages)\n"
          ]
        },
        {
          "name": "stdout",
          "output_type": "stream",
          "text": [
            "\n",
            "  Cloning https://github.com/yeoun9/torchpm.git to c:\\users\\sungwoo\\appdata\\local\\temp\\pip-req-build-6qk4p0t5\n",
            "  Resolved https://github.com/yeoun9/torchpm.git to commit a98641c57b7241a6e47e20b97d7c26d980ee80f4\n",
            "  Preparing metadata (setup.py): started\n",
            "  Preparing metadata (setup.py): finished with status 'done'\n",
            "Requirement already satisfied: torch>=1.3.0 in c:\\users\\sungwoo\\appdata\\local\\programs\\python\\python39\\lib\\site-packages (from torchpm==0.0.3) (1.11.0+cu113)\n",
            "Requirement already satisfied: numpy>=1.19.5 in c:\\users\\sungwoo\\appdata\\local\\programs\\python\\python39\\lib\\site-packages (from torchpm==0.0.3) (1.22.3)\n",
            "Requirement already satisfied: torchdiffeq>=0.2.1 in c:\\users\\sungwoo\\appdata\\local\\programs\\python\\python39\\lib\\site-packages (from torchpm==0.0.3) (0.2.2)\n",
            "Requirement already satisfied: sympy>=1.7.1 in c:\\users\\sungwoo\\appdata\\local\\programs\\python\\python39\\lib\\site-packages (from torchpm==0.0.3) (1.10)\n",
            "Requirement already satisfied: mpmath>=0.19 in c:\\users\\sungwoo\\appdata\\local\\programs\\python\\python39\\lib\\site-packages (from sympy>=1.7.1->torchpm==0.0.3) (1.2.1)\n",
            "Requirement already satisfied: typing-extensions in c:\\users\\sungwoo\\appdata\\local\\programs\\python\\python39\\lib\\site-packages (from torch>=1.3.0->torchpm==0.0.3) (4.1.1)\n",
            "Requirement already satisfied: scipy>=1.4.0 in c:\\users\\sungwoo\\appdata\\local\\programs\\python\\python39\\lib\\site-packages (from torchdiffeq>=0.2.1->torchpm==0.0.3) (1.8.0)\n",
            "Building wheels for collected packages: torchpm\n",
            "  Building wheel for torchpm (setup.py): started\n",
            "  Building wheel for torchpm (setup.py): finished with status 'done'\n",
            "  Created wheel for torchpm: filename=torchpm-0.0.3-py3-none-any.whl size=20707 sha256=bb0b14fd69ddc8e698f86aede486b618b7d1cf44dbadcf3d80c66ca06a1a5bf9\n",
            "  Stored in directory: C:\\Users\\sungwoo\\AppData\\Local\\Temp\\pip-ephem-wheel-cache-pa5a6mvq\\wheels\\dc\\72\\dd\\d30f04632dad3b07fc5fd9017cf6af44bedce51258901ca564\n",
            "Successfully built torchpm\n",
            "Installing collected packages: torchpm\n",
            "Successfully installed torchpm-0.0.3\n",
            "Requirement already satisfied: sympytorch in c:\\users\\sungwoo\\appdata\\local\\programs\\python\\python39\\lib\\site-packages (0.1.1)\n",
            "Requirement already satisfied: torch>=1.6.0 in c:\\users\\sungwoo\\appdata\\local\\programs\\python\\python39\\lib\\site-packages (from sympytorch) (1.11.0+cu113)\n",
            "Requirement already satisfied: sympy>=1.7.1 in c:\\users\\sungwoo\\appdata\\local\\programs\\python\\python39\\lib\\site-packages (from sympytorch) (1.10)\n",
            "Requirement already satisfied: mpmath>=0.19 in c:\\users\\sungwoo\\appdata\\local\\programs\\python\\python39\\lib\\site-packages (from sympy>=1.7.1->sympytorch) (1.2.1)\n",
            "Requirement already satisfied: typing-extensions in c:\\users\\sungwoo\\appdata\\local\\programs\\python\\python39\\lib\\site-packages (from torch>=1.6.0->sympytorch) (4.1.1)\n"
          ]
        },
        {
          "name": "stderr",
          "output_type": "stream",
          "text": [
            "WARNING: Ignoring invalid distribution -orchpm (c:\\users\\sungwoo\\appdata\\local\\programs\\python\\python39\\lib\\site-packages)\n",
            "WARNING: Ignoring invalid distribution -orchpm (c:\\users\\sungwoo\\appdata\\local\\programs\\python\\python39\\lib\\site-packages)\n",
            "WARNING: Ignoring invalid distribution -orchpm (c:\\users\\sungwoo\\appdata\\local\\programs\\python\\python39\\lib\\site-packages)\n",
            "WARNING: Ignoring invalid distribution -orchpm (c:\\users\\sungwoo\\appdata\\local\\programs\\python\\python39\\lib\\site-packages)\n",
            "WARNING: Ignoring invalid distribution -orchpm (c:\\users\\sungwoo\\appdata\\local\\programs\\python\\python39\\lib\\site-packages)\n"
          ]
        }
      ],
      "source": [
        "! pip install git+https://github.com/yeoun9/torchpm.git\n",
        "! pip install sympytorch"
      ]
    },
    {
      "cell_type": "code",
      "execution_count": 21,
      "metadata": {
        "id": "WllWbwIhca9I"
      },
      "outputs": [],
      "source": [
        "from torchpm import *\n",
        "from torchpm.data import CSVDataset\n",
        "from torchpm.parameter import *\n",
        "from torchpm import covariate\n",
        "import torch as tc\n",
        "import numpy as np\n",
        "import matplotlib.pyplot as plt"
      ]
    },
    {
      "cell_type": "markdown",
      "metadata": {
        "id": "coHSs8ZfBEfV"
      },
      "source": [
        "# Model Building"
      ]
    },
    {
      "cell_type": "code",
      "execution_count": 22,
      "metadata": {
        "id": "AqeOy6Vrcyl-"
      },
      "outputs": [
        {
          "ename": "NameError",
          "evalue": "name 'models' is not defined",
          "output_type": "error",
          "traceback": [
            "\u001b[1;31m---------------------------------------------------------------------------\u001b[0m",
            "\u001b[1;31mNameError\u001b[0m                                 Traceback (most recent call last)",
            "\u001b[1;32m~\\AppData\\Local\\Temp/ipykernel_18156/242398216.py\u001b[0m in \u001b[0;36m<module>\u001b[1;34m\u001b[0m\n\u001b[0;32m     53\u001b[0m                                                 -0.0069,  0.0116,  0.0205], False, requires_grads=True),\n\u001b[0;32m     54\u001b[0m                                 sigma = Sigma([[0.0177], [0.0762]], [True, True], requires_grads=[True, True]))\n\u001b[1;32m---> 55\u001b[1;33m \u001b[0mprint\u001b[0m\u001b[1;33m(\u001b[0m\u001b[0msearcher\u001b[0m\u001b[1;33m.\u001b[0m\u001b[0mrun\u001b[0m\u001b[1;33m(\u001b[0m\u001b[1;33m)\u001b[0m\u001b[1;33m)\u001b[0m\u001b[1;33m\u001b[0m\u001b[1;33m\u001b[0m\u001b[0m\n\u001b[0m",
            "\u001b[1;32m~\\AppData\\Local\\Programs\\Python\\Python39\\lib\\site-packages\\torchpm\\covariate.py\u001b[0m in \u001b[0;36mrun\u001b[1;34m(self, learning_rate, checkpoint_file_path, tolerance_grad, tolerance_change, max_iteration)\u001b[0m\n\u001b[0;32m    131\u001b[0m         \u001b[0mself\u001b[0m\u001b[1;33m.\u001b[0m\u001b[0mindependent_parameter_names_candidate\u001b[0m \u001b[1;33m=\u001b[0m \u001b[0mdeepcopy\u001b[0m\u001b[1;33m(\u001b[0m\u001b[0mself\u001b[0m\u001b[1;33m.\u001b[0m\u001b[0mindependent_parameter_names\u001b[0m\u001b[1;33m)\u001b[0m\u001b[1;33m\u001b[0m\u001b[1;33m\u001b[0m\u001b[0m\n\u001b[0;32m    132\u001b[0m \u001b[1;33m\u001b[0m\u001b[0m\n\u001b[1;32m--> 133\u001b[1;33m         pre_total_loss = self._fit(learning_rate = learning_rate, \n\u001b[0m\u001b[0;32m    134\u001b[0m                                 \u001b[0mtolerance_grad\u001b[0m \u001b[1;33m=\u001b[0m \u001b[0mtolerance_grad\u001b[0m\u001b[1;33m,\u001b[0m\u001b[1;33m\u001b[0m\u001b[1;33m\u001b[0m\u001b[0m\n\u001b[0;32m    135\u001b[0m                                 \u001b[0mtolerance_change\u001b[0m\u001b[1;33m=\u001b[0m \u001b[0mtolerance_change\u001b[0m\u001b[1;33m,\u001b[0m\u001b[1;33m\u001b[0m\u001b[1;33m\u001b[0m\u001b[0m\n",
            "\u001b[1;32m~\\AppData\\Local\\Programs\\Python\\Python39\\lib\\site-packages\\torchpm\\covariate.py\u001b[0m in \u001b[0;36m_fit\u001b[1;34m(self, learning_rate, checkpoint_file_path, tolerance_grad, tolerance_change, max_iteration)\u001b[0m\n\u001b[0;32m    165\u001b[0m                     \u001b[0mtolerance_change\u001b[0m \u001b[1;33m:\u001b[0m \u001b[0mfloat\u001b[0m \u001b[1;33m=\u001b[0m \u001b[1;36m1e-3\u001b[0m\u001b[1;33m,\u001b[0m\u001b[1;33m\u001b[0m\u001b[1;33m\u001b[0m\u001b[0m\n\u001b[0;32m    166\u001b[0m                     max_iteration : int = 1000) :\n\u001b[1;32m--> 167\u001b[1;33m         model = self._get_model(self.dependent_parameter_names,\n\u001b[0m\u001b[0;32m    168\u001b[0m                                 \u001b[0mself\u001b[0m\u001b[1;33m.\u001b[0m\u001b[0mdependent_parameter_initial_values\u001b[0m\u001b[1;33m,\u001b[0m\u001b[1;33m\u001b[0m\u001b[1;33m\u001b[0m\u001b[0m\n\u001b[0;32m    169\u001b[0m                                 self.independent_parameter_names_candidate)\n",
            "\u001b[1;32m~\\AppData\\Local\\Programs\\Python\\Python39\\lib\\site-packages\\torchpm\\covariate.py\u001b[0m in \u001b[0;36m_get_model\u001b[1;34m(self, dependent_parameter_names, dependent_parameter_initial_values, independent_parameter_names)\u001b[0m\n\u001b[0;32m    113\u001b[0m         \u001b[0meta_names\u001b[0m \u001b[1;33m=\u001b[0m \u001b[1;33m[\u001b[0m\u001b[0mname\u001b[0m \u001b[1;33m+\u001b[0m \u001b[1;34m'_eta'\u001b[0m \u001b[1;32mfor\u001b[0m \u001b[0mname\u001b[0m \u001b[1;32min\u001b[0m \u001b[0mself\u001b[0m\u001b[1;33m.\u001b[0m\u001b[0mdependent_parameter_names\u001b[0m\u001b[1;33m]\u001b[0m\u001b[1;33m\u001b[0m\u001b[1;33m\u001b[0m\u001b[0m\n\u001b[0;32m    114\u001b[0m \u001b[1;33m\u001b[0m\u001b[0m\n\u001b[1;32m--> 115\u001b[1;33m         model = FOCEInter(dataset=self.dataset,\n\u001b[0m\u001b[0;32m    116\u001b[0m                                 \u001b[0moutput_column_names\u001b[0m\u001b[1;33m=\u001b[0m\u001b[1;33m[\u001b[0m\u001b[1;33m]\u001b[0m\u001b[1;33m,\u001b[0m\u001b[1;33m\u001b[0m\u001b[1;33m\u001b[0m\u001b[0m\n\u001b[0;32m    117\u001b[0m                                 \u001b[0mpred_function_module\u001b[0m\u001b[1;33m=\u001b[0m\u001b[0mCovModel\u001b[0m\u001b[1;33m,\u001b[0m\u001b[1;33m\u001b[0m\u001b[1;33m\u001b[0m\u001b[0m\n",
            "\u001b[1;31mNameError\u001b[0m: name 'models' is not defined"
          ]
        }
      ],
      "source": [
        "dataset_file_path = 'https://raw.githubusercontent.com/yeoun9/torchpm/main/examples/THEO_cov_searching.csv'\n",
        "dataset_np = np.loadtxt(dataset_file_path, delimiter=',', dtype=np.float32, skiprows=1)\n",
        "device = tc.device(\"cuda:0\" if tc.cuda.is_available() else \"cpu\")\n",
        "column_names = ['ID', 'AMT', 'TIME', 'DV', 'CMT', \"MDV\", \"RATE\", 'BWT', 'fixed', 'rand-1+1', 'norm(0,1)', 'BWT-0.5+0.5']\n",
        "dataset = CSVDataset(dataset_np, column_names, device)\n",
        "\n",
        "class BasementModel(predfunction.PredictionFunctionByTime) :\n",
        "    \n",
        "    def _set_estimated_parameters(self):\n",
        "        self.theta_0 = Theta(0., 1.5, 10.)\n",
        "        self.theta_1 = Theta(0., 30., 100.)\n",
        "        self.theta_2 = Theta(0, 0.08, 1)\n",
        "\n",
        "        self.eta_0 = Eta()\n",
        "        self.eta_1 = Eta()\n",
        "        self.eta_2 = Eta()\n",
        "\n",
        "        self.eps_0 = Eps()\n",
        "        self.eps_1 = Eps()\n",
        "\n",
        "        self.gut_model = linearode.Comp1GutModelFunction()\n",
        "    \n",
        "    def _calculate_parameters(self, covariates):\n",
        "        covariates['k_a'] = self.theta_0()*tc.exp(self.eta_0())\n",
        "        covariates['v'] = self.theta_1()*tc.exp(self.eta_1())#*para['BWT']/70\n",
        "        covariates['k_e'] = self.theta_2()*tc.exp(self.eta_2())\n",
        "        covariates['AMT'] = tc.tensor(320., device=self.dataset.device)\n",
        "\n",
        "    def _calculate_preds(self, t, p):\n",
        "        dose = p['AMT'][0]\n",
        "        k_a = p['k_a']\n",
        "        v = p['v']\n",
        "        k_e = p['k_e']\n",
        "        comps = self.gut_model(t, k_a, k_e, dose)\n",
        "        return comps[1]/v\n",
        "        \n",
        "    def _calculate_error(self, y_pred, p):\n",
        "        p['v_v'] = p['v'] \n",
        "        return y_pred +  y_pred * self.eps_0() + self.eps_1()\n",
        "\n",
        "dependent_parameter_names = ['k_a', 'v', 'k_e']\n",
        "dependent_parameter_initial_values = [[0,1.4901,2],[30,32.4667,34],[0,0.08,0.1]]\n",
        "independent_parameter_names = ['BWT', 'fixed', 'rand-1+1', 'norm(0,1)', 'BWT-0.5+0.5']\n",
        "\n",
        "searcher = covariate.DeepCovariateSearching(dataset=dataset,\n",
        "                                BaseModel=BasementModel,\n",
        "                                dependent_parameter_names=dependent_parameter_names,\n",
        "                                independent_parameter_names=independent_parameter_names,\n",
        "                                dependent_parameter_initial_values=dependent_parameter_initial_values,\n",
        "                                eps_names=['eps_0', 'eps_1'],\n",
        "                                omega = Omega([0.4397,\n",
        "                                                0.0575,  0.0198, \n",
        "                                                -0.0069,  0.0116,  0.0205], False, requires_grads=True),\n",
        "                                sigma = Sigma([[0.0177], [0.0762]], [True, True], requires_grads=[True, True]))\n",
        "print(searcher.run())"
      ]
    },
    {
      "cell_type": "code",
      "execution_count": null,
      "metadata": {},
      "outputs": [],
      "source": []
    }
  ],
  "metadata": {
    "colab": {
      "authorship_tag": "ABX9TyM4W1KPEkelAM2Vf6SFmZfb",
      "collapsed_sections": [],
      "include_colab_link": true,
      "name": "torchpm test.ipynb",
      "provenance": []
    },
    "kernelspec": {
      "display_name": "Python 3",
      "name": "python3"
    },
    "language_info": {
      "codemirror_mode": {
        "name": "ipython",
        "version": 3
      },
      "file_extension": ".py",
      "mimetype": "text/x-python",
      "name": "python",
      "nbconvert_exporter": "python",
      "pygments_lexer": "ipython3",
      "version": "3.9.7"
    }
  },
  "nbformat": 4,
  "nbformat_minor": 0
}
