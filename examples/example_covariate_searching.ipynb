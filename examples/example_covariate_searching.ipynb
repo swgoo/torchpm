{
  "cells": [
    {
      "cell_type": "markdown",
      "metadata": {
        "colab_type": "text",
        "id": "view-in-github"
      },
      "source": [
        "<a href=\"https://colab.research.google.com/github/yeoun9/torchpm/blob/main/examples/example.ipynb\" target=\"_parent\"><img src=\"https://colab.research.google.com/assets/colab-badge.svg\" alt=\"Open In Colab\"/></a>"
      ]
    },
    {
      "cell_type": "code",
      "execution_count": null,
      "metadata": {},
      "outputs": [],
      "source": [
        "! pip install git+https://github.com/yeoun9/torchpm.git\n",
        "! pip install sympytorch"
      ]
    },
    {
      "cell_type": "code",
      "execution_count": 1,
      "metadata": {
        "id": "WllWbwIhca9I"
      },
      "outputs": [],
      "source": [
        "from torchpm import *\n",
        "from torchpm.data import CSVDataset\n",
        "from torchpm.parameter import *\n",
        "import torch as tc\n",
        "import numpy as np\n",
        "import matplotlib.pyplot as plt"
      ]
    },
    {
      "cell_type": "markdown",
      "metadata": {
        "id": "coHSs8ZfBEfV"
      },
      "source": [
        "# Model Building"
      ]
    },
    {
      "cell_type": "code",
      "execution_count": 2,
      "metadata": {
        "id": "AqeOy6Vrcyl-"
      },
      "outputs": [
        {
          "name": "stdout",
          "output_type": "stream",
          "text": [
            "running_time :  1.5699994564056396 \t total_loss: tensor(490.1509, device='cuda:0', grad_fn=<AddBackward0>)\n",
            "running_time :  2.176999568939209 \t total_loss: tensor(403.7401, device='cuda:0', grad_fn=<AddBackward0>)\n",
            "running_time :  2.7679991722106934 \t total_loss: tensor(343.5059, device='cuda:0', grad_fn=<AddBackward0>)\n",
            "running_time :  3.3489980697631836 \t total_loss: tensor(267.9600, device='cuda:0', grad_fn=<AddBackward0>)\n",
            "running_time :  3.9519994258880615 \t total_loss: tensor(243.7507, device='cuda:0', grad_fn=<AddBackward0>)\n",
            "running_time :  4.5439982414245605 \t total_loss: tensor(202.4627, device='cuda:0', grad_fn=<AddBackward0>)\n",
            "running_time :  5.140998840332031 \t total_loss: tensor(168.2006, device='cuda:0', grad_fn=<AddBackward0>)\n",
            "running_time :  5.735997676849365 \t total_loss: tensor(137.0659, device='cuda:0', grad_fn=<AddBackward0>)\n",
            "running_time :  6.335001707077026 \t total_loss: tensor(131.7247, device='cuda:0', grad_fn=<AddBackward0>)\n",
            "running_time :  6.926997423171997 \t total_loss: tensor(110.5488, device='cuda:0', grad_fn=<AddBackward0>)\n",
            "running_time :  7.5259974002838135 \t total_loss: tensor(107.1685, device='cuda:0', grad_fn=<AddBackward0>)\n",
            "running_time :  8.125999212265015 \t total_loss: tensor(103.8068, device='cuda:0', grad_fn=<AddBackward0>)\n",
            "running_time :  8.723001956939697 \t total_loss: tensor(99.6332, device='cuda:0', grad_fn=<AddBackward0>)\n",
            "running_time :  9.343998193740845 \t total_loss: tensor(95.5451, device='cuda:0', grad_fn=<AddBackward0>)\n",
            "running_time :  9.936997413635254 \t total_loss: tensor(93.4131, device='cuda:0', grad_fn=<AddBackward0>)\n",
            "running_time :  10.564999103546143 \t total_loss: tensor(92.8300, device='cuda:0', grad_fn=<AddBackward0>)\n",
            "running_time :  11.166998863220215 \t total_loss: tensor(92.7252, device='cuda:0', grad_fn=<AddBackward0>)\n",
            "running_time :  11.763999223709106 \t total_loss: tensor(92.6536, device='cuda:0', grad_fn=<AddBackward0>)\n",
            "running_time :  12.370000123977661 \t total_loss: tensor(92.5632, device='cuda:0', grad_fn=<AddBackward0>)\n",
            "running_time :  13.01499891281128 \t total_loss: tensor(92.4527, device='cuda:0', grad_fn=<AddBackward0>)\n",
            "running_time :  13.637001514434814 \t total_loss: tensor(92.4822, device='cuda:0', grad_fn=<AddBackward0>)\n",
            "running_time :  14.257997512817383 \t total_loss: tensor(92.4215, device='cuda:0', grad_fn=<AddBackward0>)\n",
            "running_time :  14.859002113342285 \t total_loss: tensor(92.4251, device='cuda:0', grad_fn=<AddBackward0>)\n",
            "running_time :  15.475002527236938 \t total_loss: tensor(92.3991, device='cuda:0', grad_fn=<AddBackward0>)\n",
            "running_time :  16.09599804878235 \t total_loss: tensor(92.3888, device='cuda:0', grad_fn=<AddBackward0>)\n",
            "running_time :  16.703999042510986 \t total_loss: tensor(92.3848, device='cuda:0', grad_fn=<AddBackward0>)\n",
            "running_time :  17.318997621536255 \t total_loss: tensor(92.3823, device='cuda:0', grad_fn=<AddBackward0>)\n",
            "running_time :  17.934997081756592 \t total_loss: tensor(92.3537, device='cuda:0', grad_fn=<AddBackward0>)\n",
            "running_time :  18.55499768257141 \t total_loss: tensor(92.3456, device='cuda:0', grad_fn=<AddBackward0>)\n",
            "running_time :  19.17099928855896 \t total_loss: tensor(92.3474, device='cuda:0', grad_fn=<AddBackward0>)\n",
            "running_time :  19.785001277923584 \t total_loss: tensor(92.3379, device='cuda:0', grad_fn=<AddBackward0>)\n",
            "running_time :  20.41400170326233 \t total_loss: tensor(92.3170, device='cuda:0', grad_fn=<AddBackward0>)\n",
            "running_time :  21.04300045967102 \t total_loss: tensor(92.3043, device='cuda:0', grad_fn=<AddBackward0>)\n",
            "running_time :  21.661998987197876 \t total_loss: tensor(92.3070, device='cuda:0', grad_fn=<AddBackward0>)\n",
            "running_time :  22.280001163482666 \t total_loss: tensor(92.2968, device='cuda:0', grad_fn=<AddBackward0>)\n",
            "running_time :  22.893998861312866 \t total_loss: tensor(92.2717, device='cuda:0', grad_fn=<AddBackward0>)\n",
            "running_time :  23.525001049041748 \t total_loss: tensor(92.2774, device='cuda:0', grad_fn=<AddBackward0>)\n",
            "running_time :  24.15799903869629 \t total_loss: tensor(92.2548, device='cuda:0', grad_fn=<AddBackward0>)\n",
            "running_time :  24.780998706817627 \t total_loss: tensor(92.2708, device='cuda:0', grad_fn=<AddBackward0>)\n",
            "running_time :  25.40999937057495 \t total_loss: tensor(92.2344, device='cuda:0', grad_fn=<AddBackward0>)\n",
            "running_time :  26.019997358322144 \t total_loss: tensor(92.2372, device='cuda:0', grad_fn=<AddBackward0>)\n"
          ]
        },
        {
          "data": {
            "text/plain": [
              "FOCEInter(\n",
              "  (pred_function_module): BasementModel(\n",
              "    (theta_0): Theta()\n",
              "    (theta_1): Theta()\n",
              "    (theta_2): Theta()\n",
              "    (eta_0): Eta(\n",
              "      (parameter_values): ParameterDict(\n",
              "          (1): Parameter containing: [torch.cuda.FloatTensor of size  (GPU 0)]\n",
              "          (2): Parameter containing: [torch.cuda.FloatTensor of size  (GPU 0)]\n",
              "          (3): Parameter containing: [torch.cuda.FloatTensor of size  (GPU 0)]\n",
              "          (4): Parameter containing: [torch.cuda.FloatTensor of size  (GPU 0)]\n",
              "          (5): Parameter containing: [torch.cuda.FloatTensor of size  (GPU 0)]\n",
              "          (6): Parameter containing: [torch.cuda.FloatTensor of size  (GPU 0)]\n",
              "          (7): Parameter containing: [torch.cuda.FloatTensor of size  (GPU 0)]\n",
              "          (8): Parameter containing: [torch.cuda.FloatTensor of size  (GPU 0)]\n",
              "          (9): Parameter containing: [torch.cuda.FloatTensor of size  (GPU 0)]\n",
              "          (10): Parameter containing: [torch.cuda.FloatTensor of size  (GPU 0)]\n",
              "          (11): Parameter containing: [torch.cuda.FloatTensor of size  (GPU 0)]\n",
              "          (12): Parameter containing: [torch.cuda.FloatTensor of size  (GPU 0)]\n",
              "      )\n",
              "    )\n",
              "    (eta_1): Eta(\n",
              "      (parameter_values): ParameterDict(\n",
              "          (1): Parameter containing: [torch.cuda.FloatTensor of size  (GPU 0)]\n",
              "          (2): Parameter containing: [torch.cuda.FloatTensor of size  (GPU 0)]\n",
              "          (3): Parameter containing: [torch.cuda.FloatTensor of size  (GPU 0)]\n",
              "          (4): Parameter containing: [torch.cuda.FloatTensor of size  (GPU 0)]\n",
              "          (5): Parameter containing: [torch.cuda.FloatTensor of size  (GPU 0)]\n",
              "          (6): Parameter containing: [torch.cuda.FloatTensor of size  (GPU 0)]\n",
              "          (7): Parameter containing: [torch.cuda.FloatTensor of size  (GPU 0)]\n",
              "          (8): Parameter containing: [torch.cuda.FloatTensor of size  (GPU 0)]\n",
              "          (9): Parameter containing: [torch.cuda.FloatTensor of size  (GPU 0)]\n",
              "          (10): Parameter containing: [torch.cuda.FloatTensor of size  (GPU 0)]\n",
              "          (11): Parameter containing: [torch.cuda.FloatTensor of size  (GPU 0)]\n",
              "          (12): Parameter containing: [torch.cuda.FloatTensor of size  (GPU 0)]\n",
              "      )\n",
              "    )\n",
              "    (eta_2): Eta(\n",
              "      (parameter_values): ParameterDict(\n",
              "          (1): Parameter containing: [torch.cuda.FloatTensor of size  (GPU 0)]\n",
              "          (2): Parameter containing: [torch.cuda.FloatTensor of size  (GPU 0)]\n",
              "          (3): Parameter containing: [torch.cuda.FloatTensor of size  (GPU 0)]\n",
              "          (4): Parameter containing: [torch.cuda.FloatTensor of size  (GPU 0)]\n",
              "          (5): Parameter containing: [torch.cuda.FloatTensor of size  (GPU 0)]\n",
              "          (6): Parameter containing: [torch.cuda.FloatTensor of size  (GPU 0)]\n",
              "          (7): Parameter containing: [torch.cuda.FloatTensor of size  (GPU 0)]\n",
              "          (8): Parameter containing: [torch.cuda.FloatTensor of size  (GPU 0)]\n",
              "          (9): Parameter containing: [torch.cuda.FloatTensor of size  (GPU 0)]\n",
              "          (10): Parameter containing: [torch.cuda.FloatTensor of size  (GPU 0)]\n",
              "          (11): Parameter containing: [torch.cuda.FloatTensor of size  (GPU 0)]\n",
              "          (12): Parameter containing: [torch.cuda.FloatTensor of size  (GPU 0)]\n",
              "      )\n",
              "    )\n",
              "    (eps_0): Eps()\n",
              "    (eps_1): Eps()\n",
              "    (gut_model): Comp1GutModelFunction(\n",
              "      (model): SymPyModule(expressions=(d*exp(-k_01*t), d*k_01*exp(-k_11*t)/(k_01 - k_11) - d*k_01*exp(-k_01*t)/(k_01 - k_11)))\n",
              "    )\n",
              "  )\n",
              "  (omega): Omega(\n",
              "    (parameter_values): ParameterList(  (0): Parameter containing: [torch.cuda.FloatTensor of size 6 (GPU 0)])\n",
              "  )\n",
              "  (sigma): Sigma(\n",
              "    (parameter_values): ParameterList(\n",
              "        (0): Parameter containing: [torch.cuda.FloatTensor of size 1 (GPU 0)]\n",
              "        (1): Parameter containing: [torch.cuda.FloatTensor of size 1 (GPU 0)]\n",
              "    )\n",
              "  )\n",
              ")"
            ]
          },
          "execution_count": 2,
          "metadata": {},
          "output_type": "execute_result"
        }
      ],
      "source": [
        "dataset_file_path = 'https://raw.githubusercontent.com/yeoun9/torchpm/main/examples/THEO_cov_searching.csv'\n",
        "dataset_np = np.loadtxt(dataset_file_path, delimiter=',', dtype=np.float32, skiprows=1)\n",
        "device = tc.device(\"cuda:0\" if tc.cuda.is_available() else \"cpu\")\n",
        "column_names = ['ID', 'AMT', 'TIME', 'DV', 'CMT', \"MDV\", \"RATE\", 'BWT', 'fixed', 'rand-1+1', 'norm(0,1)', 'BWT-0.5+0.5']\n",
        "dataset = CSVDataset(dataset_np, column_names, device)\n",
        "\n",
        "class BasementModel(predfunction.PredictionFunctionByTime) :\n",
        "    \n",
        "    def _set_estimated_parameters(self):\n",
        "        self.theta_0 = Theta(0., 1.5, 10.)\n",
        "        self.theta_1 = Theta(0., 30., 100.)\n",
        "        self.theta_2 = Theta(0, 0.08, 1)\n",
        "\n",
        "        self.eta_0 = Eta()\n",
        "        self.eta_1 = Eta()\n",
        "        self.eta_2 = Eta()\n",
        "\n",
        "        self.eps_0 = Eps()\n",
        "        self.eps_1 = Eps()\n",
        "\n",
        "        self.gut_model = linearode.Comp1GutModelFunction()\n",
        "    \n",
        "    def _calculate_parameters(self, covariates):\n",
        "        covariates['k_a'] = self.theta_0()*tc.exp(self.eta_0())\n",
        "        covariates['v'] = self.theta_1()*tc.exp(self.eta_1())#*para['BWT']/70\n",
        "        covariates['k_e'] = self.theta_2()*tc.exp(self.eta_2())\n",
        "        covariates['AMT'] = tc.tensor(320., device=self.dataset.device)\n",
        "\n",
        "    def _calculate_preds(self, t, p):\n",
        "        dose = p['AMT'][0]\n",
        "        k_a = p['k_a']\n",
        "        v = p['v']\n",
        "        k_e = p['k_e']\n",
        "        comps = self.gut_model(t, k_a, k_e, dose)\n",
        "        return comps[1]/v\n",
        "        \n",
        "    def _calculate_error(self, y_pred, p):\n",
        "        p['v_v'] = p['v'] \n",
        "        return y_pred +  y_pred * self.eps_0() + self.eps_1()\n",
        "\n",
        "dependent_parameter_names = ['k_a', 'v', 'k_e']\n",
        "dependent_parameter_initial_values = [[0,1.4901,2],[30,32.4667,34],[0,0.08,0.1]]\n",
        "independent_parameter_names = ['BWT', 'fixed', 'rand-1+1', 'norm(0,1)', 'BWT-0.5+0.5']\n",
        "\n",
        "searcher = covariate.DeepCovariateSearching(dataset=dataset,\n",
        "                                BaseModel=BasementModel,\n",
        "                                dependent_parameter_names=dependent_parameter_names,\n",
        "                                independent_parameter_names=independent_parameter_names,\n",
        "                                dependent_parameter_initial_values=dependent_parameter_initial_values,\n",
        "                                eps_names=['eps_0', 'eps_1'],\n",
        "                                omega = Omega([0.4397,\n",
        "                                                0.0575,  0.0198, \n",
        "                                                -0.0069,  0.0116,  0.0205], False, requires_grads=True),\n",
        "                                sigma = Sigma([[0.0177], [0.0762]], [True, True], requires_grads=[True, True]))\n",
        "print(searcher.run())"
      ]
    }
  ],
  "metadata": {
    "colab": {
      "authorship_tag": "ABX9TyM4W1KPEkelAM2Vf6SFmZfb",
      "collapsed_sections": [],
      "include_colab_link": true,
      "name": "torchpm test.ipynb",
      "provenance": []
    },
    "kernelspec": {
      "display_name": "Python 3",
      "name": "python3"
    },
    "language_info": {
      "codemirror_mode": {
        "name": "ipython",
        "version": 3
      },
      "file_extension": ".py",
      "mimetype": "text/x-python",
      "name": "python",
      "nbconvert_exporter": "python",
      "pygments_lexer": "ipython3",
      "version": "3.9.7"
    }
  },
  "nbformat": 4,
  "nbformat_minor": 0
}
