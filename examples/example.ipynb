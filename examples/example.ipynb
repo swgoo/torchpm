{
  "cells": [
    {
      "cell_type": "markdown",
      "metadata": {
        "colab_type": "text",
        "id": "view-in-github"
      },
      "source": [
        "<a href=\"https://colab.research.google.com/github/yeoun9/torchpm/blob/main/examples/example.ipynb\" target=\"_parent\"><img src=\"https://colab.research.google.com/assets/colab-badge.svg\" alt=\"Open In Colab\"/></a>"
      ]
    },
    {
      "cell_type": "code",
      "execution_count": 23,
      "metadata": {
        "id": "WllWbwIhca9I"
      },
      "outputs": [
        {
          "name": "stdout",
          "output_type": "stream",
          "text": [
            "Collecting git+https://github.com/yeoun9/torchpm.git\n",
            "  Cloning https://github.com/yeoun9/torchpm.git to c:\\users\\sungwoo\\appdata\\local\\temp\\pip-req-build-4bmq527x\n",
            "  Resolved https://github.com/yeoun9/torchpm.git to commit f0fc85b46ba8f318c41e03956238c29ba9cd5205\n",
            "  Preparing metadata (setup.py): started\n",
            "  Preparing metadata (setup.py): finished with status 'done'\n",
            "Requirement already satisfied: torch>=1.3.0 in c:\\users\\sungwoo\\appdata\\local\\programs\\python\\python39\\lib\\site-packages (from torchpm==0.0.3) (1.11.0+cu113)\n",
            "Requirement already satisfied: numpy>=1.19.5 in c:\\users\\sungwoo\\appdata\\local\\programs\\python\\python39\\lib\\site-packages (from torchpm==0.0.3) (1.22.3)\n",
            "Requirement already satisfied: torchdiffeq>=0.2.1 in c:\\users\\sungwoo\\appdata\\local\\programs\\python\\python39\\lib\\site-packages (from torchpm==0.0.3) (0.2.2)\n",
            "Requirement already satisfied: sympy>=1.7.1 in c:\\users\\sungwoo\\appdata\\local\\programs\\python\\python39\\lib\\site-packages (from torchpm==0.0.3) (1.10)\n",
            "Requirement already satisfied: mpmath>=0.19 in c:\\users\\sungwoo\\appdata\\local\\programs\\python\\python39\\lib\\site-packages (from sympy>=1.7.1->torchpm==0.0.3) (1.2.1)\n",
            "Requirement already satisfied: typing-extensions in c:\\users\\sungwoo\\appdata\\local\\programs\\python\\python39\\lib\\site-packages (from torch>=1.3.0->torchpm==0.0.3) (4.1.1)\n",
            "Requirement already satisfied: scipy>=1.4.0 in c:\\users\\sungwoo\\appdata\\local\\programs\\python\\python39\\lib\\site-packages (from torchdiffeq>=0.2.1->torchpm==0.0.3) (1.8.0)\n"
          ]
        },
        {
          "name": "stderr",
          "output_type": "stream",
          "text": [
            "  Running command git clone --filter=blob:none --quiet https://github.com/yeoun9/torchpm.git 'C:\\Users\\sungwoo\\AppData\\Local\\Temp\\pip-req-build-4bmq527x'\n"
          ]
        },
        {
          "name": "stdout",
          "output_type": "stream",
          "text": [
            "Requirement already satisfied: sympytorch in c:\\users\\sungwoo\\appdata\\local\\programs\\python\\python39\\lib\\site-packages (0.1.1)\n",
            "Requirement already satisfied: torch>=1.6.0 in c:\\users\\sungwoo\\appdata\\local\\programs\\python\\python39\\lib\\site-packages (from sympytorch) (1.11.0+cu113)\n",
            "Requirement already satisfied: sympy>=1.7.1 in c:\\users\\sungwoo\\appdata\\local\\programs\\python\\python39\\lib\\site-packages (from sympytorch) (1.10)\n",
            "Requirement already satisfied: mpmath>=0.19 in c:\\users\\sungwoo\\appdata\\local\\programs\\python\\python39\\lib\\site-packages (from sympy>=1.7.1->sympytorch) (1.2.1)\n",
            "Requirement already satisfied: typing-extensions in c:\\users\\sungwoo\\appdata\\local\\programs\\python\\python39\\lib\\site-packages (from torch>=1.6.0->sympytorch) (4.1.1)\n"
          ]
        }
      ],
      "source": [
        "! pip install git+https://github.com/yeoun9/torchpm.git\n",
        "! pip install sympytorch\n",
        "from torchpm import *\n",
        "from torchpm.data import CSVDataset\n",
        "from torchpm.estimated_parameter import *\n",
        "import torch as tc\n",
        "import numpy as np\n",
        "import matplotlib.pyplot as plt"
      ]
    },
    {
      "cell_type": "markdown",
      "metadata": {
        "id": "coHSs8ZfBEfV"
      },
      "source": [
        "# Model Building"
      ]
    },
    {
      "cell_type": "code",
      "execution_count": 24,
      "metadata": {
        "id": "AqeOy6Vrcyl-"
      },
      "outputs": [],
      "source": [
        "tc.set_default_dtype(tc.float32)\n",
        "\n",
        "#TODO 주의사항 다운로드 할때 캐쉬 파일이 있으면 업데이트가 되지 않아서 이상하게 계산되는 경우가 있으니 주의해야함.\n",
        "dataset_file_path = 'https://raw.githubusercontent.com/yeoun9/torchpm/main/examples/THEO.csv'\n",
        "# dataset_file_path = './THEO.csv'\n",
        "column_names = ['ID', 'AMT', 'TIME', 'DV', 'CMT', 'MDV', 'RATE', 'BWT']\n",
        "\n",
        "#TODO CPU랑 GPU랑 차이남. 근데 float64나 float32를 기본으로 설정해서 똑같이 나오도록 유도\n",
        "device = tc.device(\"cuda:0\" if tc.cuda.is_available() else \"cpu\")\n",
        "# device = tc.device(\"cpu\")\n",
        "dataset = CSVDataset(dataset_file_path, column_names, device)\n",
        "\n",
        "class BasementModel(predfunction.PredictionFunctionByTime) :\n",
        "    def __init__(self, dataset: tc.utils.data.Dataset, column_names: Iterable[str], output_column_names: Iterable[str], *args, **kwargs):\n",
        "        super().__init__(dataset, column_names, output_column_names, *args, **kwargs)\n",
        "\n",
        "        self.theta_0 = Theta(1.5, 0, 10)\n",
        "        self.theta_1 = Theta(32, 0, 50)\n",
        "        self.theta_2 = Theta(0.08, 0, 1)\n",
        "\n",
        "        self.eta_0 = Eta()\n",
        "        self.eta_1 = Eta()\n",
        "        self.eta_2 = Eta()\n",
        "\n",
        "        self.eps_0 = Eps()\n",
        "        self.eps_1 = Eps()\n",
        "\n",
        "        self.gut_model = linearode.Comp1GutModelFunction()\n",
        "\n",
        "        self.initialize()\n",
        "    \n",
        "    def _calculate_parameters(self, **para):\n",
        "        k_a = self.theta_0()*tc.exp(self.eta_0())\n",
        "        #TODO\n",
        "        v = self.theta_1()*tc.exp(self.eta_1())#*para['BWT']/70\n",
        "        k_e = self.theta_2()*tc.exp(self.eta_2())\n",
        "        para['AMT'] = tc.tensor(320., device=self.dataset.device)\n",
        "        return para | {\"k_a\": k_a, \"v\": v, \"k_e\": k_e}\n",
        "\n",
        "    def _calculate_preds(self, t, amt, rate, **para) -> tc.Tensor:\n",
        "        dose = amt\n",
        "        k_a = para['k_a']\n",
        "        v = para['v']\n",
        "        k_e = para['k_e']\n",
        "        # return (dose / v * k_a) / (k_a - k_e) * (tc.exp(-k_e*t) - tc.exp(-k_a*t))\n",
        "        ############ Sympy Version Function #############\n",
        "        comps = self.gut_model(t, k_a, k_e, dose)\n",
        "        return comps[1]/v\n",
        "        \n",
        "    def _calculate_error(self, y_pred, **para) -> tc.Tensor:\n",
        "        return y_pred +  y_pred * self.eps_0() + self.eps_1(), para\n",
        "\n",
        "pred_function_module = BasementModel(dataset = dataset,\n",
        "                            column_names = column_names,\n",
        "                            output_column_names=['ID'],)\n",
        "\n",
        "omega = Omega([tc.tensor([0.4397,\n",
        "                        0.0575,  0.0198, \n",
        "                        -0.0069,  0.0116,  0.0205], device = device)], [False])\n",
        "sigma = Sigma( [tc.tensor([0.0177, 0.0762], device = device)], [True])\n",
        "\n",
        "model = models.FOCEInter(pred_function_module, \n",
        "                        theta_names=['0', '1', '2'],\n",
        "                        eta_names=[['0', '1','2']], \n",
        "                        eps_names= [['0','1']], \n",
        "                        omega=omega, \n",
        "                        sigma=sigma)\n",
        "\n",
        "model = model.to(device)"
      ]
    },
    {
      "cell_type": "markdown",
      "metadata": {
        "id": "gADOA1QjBLsj"
      },
      "source": [
        "#Model Fitting"
      ]
    },
    {
      "cell_type": "code",
      "execution_count": 26,
      "metadata": {
        "colab": {
          "base_uri": "https://localhost:8080/"
        },
        "id": "1h-KsW5gc2V2",
        "outputId": "8cb8d5b3-94fd-4f6f-90fb-658f7d686df9"
      },
      "outputs": [
        {
          "name": "stdout",
          "output_type": "stream",
          "text": [
            "running_time :  0.5796613693237305 \t total_loss: tensor(92.1346, device='cuda:0', grad_fn=<AddBackward0>)\n",
            "running_time :  1.1721975803375244 \t total_loss: tensor(147.2339, device='cuda:0', grad_fn=<AddBackward0>)\n",
            "running_time :  1.7507688999176025 \t total_loss: tensor(92.1390, device='cuda:0', grad_fn=<AddBackward0>)\n"
          ]
        },
        {
          "data": {
            "text/plain": [
              "FOCEInter(\n",
              "  (pred_function_module): BasementModel(\n",
              "    (theta_0): Theta()\n",
              "    (theta_1): Theta()\n",
              "    (theta_2): Theta()\n",
              "    (eta_0): Eta(\n",
              "      (parameter_values): ParameterDict(\n",
              "          (1): Parameter containing: [torch.cuda.FloatTensor of size  (GPU 0)]\n",
              "          (2): Parameter containing: [torch.cuda.FloatTensor of size  (GPU 0)]\n",
              "          (3): Parameter containing: [torch.cuda.FloatTensor of size  (GPU 0)]\n",
              "          (4): Parameter containing: [torch.cuda.FloatTensor of size  (GPU 0)]\n",
              "          (5): Parameter containing: [torch.cuda.FloatTensor of size  (GPU 0)]\n",
              "          (6): Parameter containing: [torch.cuda.FloatTensor of size  (GPU 0)]\n",
              "          (7): Parameter containing: [torch.cuda.FloatTensor of size  (GPU 0)]\n",
              "          (8): Parameter containing: [torch.cuda.FloatTensor of size  (GPU 0)]\n",
              "          (9): Parameter containing: [torch.cuda.FloatTensor of size  (GPU 0)]\n",
              "          (10): Parameter containing: [torch.cuda.FloatTensor of size  (GPU 0)]\n",
              "          (11): Parameter containing: [torch.cuda.FloatTensor of size  (GPU 0)]\n",
              "          (12): Parameter containing: [torch.cuda.FloatTensor of size  (GPU 0)]\n",
              "      )\n",
              "    )\n",
              "    (eta_1): Eta(\n",
              "      (parameter_values): ParameterDict(\n",
              "          (1): Parameter containing: [torch.cuda.FloatTensor of size  (GPU 0)]\n",
              "          (2): Parameter containing: [torch.cuda.FloatTensor of size  (GPU 0)]\n",
              "          (3): Parameter containing: [torch.cuda.FloatTensor of size  (GPU 0)]\n",
              "          (4): Parameter containing: [torch.cuda.FloatTensor of size  (GPU 0)]\n",
              "          (5): Parameter containing: [torch.cuda.FloatTensor of size  (GPU 0)]\n",
              "          (6): Parameter containing: [torch.cuda.FloatTensor of size  (GPU 0)]\n",
              "          (7): Parameter containing: [torch.cuda.FloatTensor of size  (GPU 0)]\n",
              "          (8): Parameter containing: [torch.cuda.FloatTensor of size  (GPU 0)]\n",
              "          (9): Parameter containing: [torch.cuda.FloatTensor of size  (GPU 0)]\n",
              "          (10): Parameter containing: [torch.cuda.FloatTensor of size  (GPU 0)]\n",
              "          (11): Parameter containing: [torch.cuda.FloatTensor of size  (GPU 0)]\n",
              "          (12): Parameter containing: [torch.cuda.FloatTensor of size  (GPU 0)]\n",
              "      )\n",
              "    )\n",
              "    (eta_2): Eta(\n",
              "      (parameter_values): ParameterDict(\n",
              "          (1): Parameter containing: [torch.cuda.FloatTensor of size  (GPU 0)]\n",
              "          (2): Parameter containing: [torch.cuda.FloatTensor of size  (GPU 0)]\n",
              "          (3): Parameter containing: [torch.cuda.FloatTensor of size  (GPU 0)]\n",
              "          (4): Parameter containing: [torch.cuda.FloatTensor of size  (GPU 0)]\n",
              "          (5): Parameter containing: [torch.cuda.FloatTensor of size  (GPU 0)]\n",
              "          (6): Parameter containing: [torch.cuda.FloatTensor of size  (GPU 0)]\n",
              "          (7): Parameter containing: [torch.cuda.FloatTensor of size  (GPU 0)]\n",
              "          (8): Parameter containing: [torch.cuda.FloatTensor of size  (GPU 0)]\n",
              "          (9): Parameter containing: [torch.cuda.FloatTensor of size  (GPU 0)]\n",
              "          (10): Parameter containing: [torch.cuda.FloatTensor of size  (GPU 0)]\n",
              "          (11): Parameter containing: [torch.cuda.FloatTensor of size  (GPU 0)]\n",
              "          (12): Parameter containing: [torch.cuda.FloatTensor of size  (GPU 0)]\n",
              "      )\n",
              "    )\n",
              "    (eps_0): Eps()\n",
              "    (eps_1): Eps()\n",
              "    (gut_model): Comp1GutModelFunction(\n",
              "      (model): SymPyModule(expressions=(d*exp(-k_01*t), d*k_01*exp(-k_11*t)/(k_01 - k_11) - d*k_01*exp(-k_01*t)/(k_01 - k_11)))\n",
              "    )\n",
              "  )\n",
              "  (omega): Omega(\n",
              "    (parameter_values): ParameterList(  (0): Parameter containing: [torch.cuda.FloatTensor of size 6 (GPU 0)])\n",
              "  )\n",
              "  (sigma): Sigma(\n",
              "    (parameter_values): ParameterList(  (0): Parameter containing: [torch.cuda.FloatTensor of size 2 (GPU 0)])\n",
              "  )\n",
              ")"
            ]
          },
          "execution_count": 26,
          "metadata": {},
          "output_type": "execute_result"
        }
      ],
      "source": [
        "model.fit_population(learning_rate = 1, tolerance_grad = 1e-3, tolerance_change= 1e-3)"
      ]
    },
    {
      "cell_type": "markdown",
      "metadata": {
        "id": "E3ceRLKQBRi3"
      },
      "source": [
        "# Result"
      ]
    },
    {
      "cell_type": "code",
      "execution_count": 28,
      "metadata": {
        "colab": {
          "base_uri": "https://localhost:8080/",
          "height": 549
        },
        "id": "mopJF9Oqc6bf",
        "outputId": "38c9c57f-a6b3-4082-c0ba-feb799fc8000"
      },
      "outputs": [
        {
          "name": "stdout",
          "output_type": "stream",
          "text": [
            "time-pred\n"
          ]
        },
        {
          "data": {
            "image/png": "[encoded data removed]",
            "text/plain": [
              "<Figure size 432x288 with 1 Axes>"
            ]
          },
          "metadata": {
            "needs_background": "light"
          },
          "output_type": "display_data"
        },
        {
          "name": "stdout",
          "output_type": "stream",
          "text": [
            "time-cwres\n"
          ]
        },
        {
          "data": {
            "image/png": "[encoded data removed]",
            "text/plain": [
              "<Figure size 432x288 with 1 Axes>"
            ]
          },
          "metadata": {
            "needs_background": "light"
          },
          "output_type": "display_data"
        }
      ],
      "source": [
        "eval_result = model.descale().evaluate()\n",
        "\n",
        "print('time-pred')\n",
        "fig = plt.figure()\n",
        "ax = fig.add_subplot(1, 1, 1)\n",
        "for id, time_data in eval_result['times'].items() :\n",
        "    y_pred = eval_result['preds'][id]\n",
        "    ax.plot(time_data.to('cpu'), y_pred.detach().to('cpu').numpy())\n",
        "plt.show()\n",
        "\n",
        "print('time-cwres')\n",
        "fig = plt.figure()\n",
        "ax = fig.add_subplot(1, 1, 1)\n",
        "for id, time_data in eval_result['times'].items() :\n",
        "    cwres_value = eval_result['cwress'][id]\n",
        "    ax.plot(time_data.masked_select(eval_result['mdv_masks'][id]).to('cpu'), cwres_value.detach().to('cpu').numpy())\n",
        "plt.show()"
      ]
    },
    {
      "cell_type": "code",
      "execution_count": 29,
      "metadata": {
        "colab": {
          "base_uri": "https://localhost:8080/"
        },
        "id": "E634uDe_c7-o",
        "outputId": "80202da3-ee65-4246-981b-29538edc0e4e"
      },
      "outputs": [
        {
          "name": "stdout",
          "output_type": "stream",
          "text": [
            "total_loss\n",
            "tensor(92.1390, device='cuda:0')\n",
            "losses\n",
            "{'1': 20.100858688354492, '2': 17.498111724853516, '3': -1.2991371154785156, '4': 9.29420280456543, '5': 20.167896270751953, '6': 4.121736526489258, '7': 1.2921934127807617, '8': 3.9535512924194336, '9': 2.976062774658203, '10': 4.821157455444336, '11': -2.4214344024658203, '12': 11.633766174316406}\n",
            "times\n",
            "{'1': tensor([ 0.0000,  0.0000,  0.2500,  0.5700,  1.1200,  2.0200,  3.8200,  5.1000,\n",
            "         7.0300,  9.0500, 12.1200, 24.3700], device='cuda:0'), '2': tensor([ 0.0000,  0.0000,  0.2700,  0.5200,  1.0000,  1.9200,  3.5000,  5.0200,\n",
            "         7.0300,  9.0000, 12.0000, 24.3000], device='cuda:0'), '3': tensor([ 0.0000,  0.0000,  0.2700,  0.5800,  1.0200,  2.0200,  3.6200,  5.0800,\n",
            "         7.0700,  9.0000, 12.1500, 24.1700], device='cuda:0'), '4': tensor([ 0.0000,  0.0000,  0.3500,  0.6000,  1.0700,  2.1300,  3.5000,  5.0200,\n",
            "         7.0200,  9.0200, 11.9800, 24.6500], device='cuda:0'), '5': tensor([ 0.0000,  0.0000,  0.3000,  0.5200,  1.0000,  2.0200,  3.5000,  5.0200,\n",
            "         7.0200,  9.1000, 12.0000, 24.3500], device='cuda:0'), '6': tensor([ 0.0000,  0.0000,  0.2700,  0.5800,  1.1500,  2.0300,  3.5700,  5.0000,\n",
            "         7.0000,  9.2200, 12.1000, 23.8500], device='cuda:0'), '7': tensor([ 0.0000,  0.0000,  0.2500,  0.5000,  1.0200,  2.0200,  3.4800,  5.0000,\n",
            "         6.9800,  9.0000, 12.0500, 24.2200], device='cuda:0'), '8': tensor([ 0.0000,  0.0000,  0.2500,  0.5200,  0.9800,  2.0200,  3.5300,  5.0500,\n",
            "         7.1500,  9.0700, 12.1000, 24.1200], device='cuda:0'), '9': tensor([ 0.0000,  0.0000,  0.3000,  0.6300,  1.0500,  2.0200,  3.5300,  5.0200,\n",
            "         7.1700,  8.8000, 11.6000, 24.4300], device='cuda:0'), '10': tensor([ 0.0000,  0.0000,  0.3700,  0.7700,  1.0200,  2.0500,  3.5500,  5.0500,\n",
            "         7.0800,  9.3800, 12.1000, 23.7000], device='cuda:0'), '11': tensor([ 0.0000,  0.0000,  0.2500,  0.5000,  0.9800,  1.9800,  3.6000,  5.0200,\n",
            "         7.0300,  9.0300, 12.1200, 24.0800], device='cuda:0'), '12': tensor([ 0.0000,  0.0000,  0.2500,  0.5000,  1.0000,  2.0000,  3.5200,  5.0700,\n",
            "         7.0700,  9.0300, 12.0500, 24.1500], device='cuda:0')}\n",
            "preds\n",
            "{'1': tensor([ 0.0000,  0.0000,  3.3881,  6.2682,  8.8786, 10.1479,  9.6691,  8.9430,\n",
            "         7.8893,  6.9106,  5.6497,  2.5287], device='cuda:0',\n",
            "       grad_fn=<AddBackward0>), '2': tensor([0.0000, 0.0000, 3.9711, 6.0102, 7.6856, 7.9897, 7.0595, 6.1497, 5.1186,\n",
            "        4.2758, 3.2510, 1.0572], device='cuda:0', grad_fn=<AddBackward0>), '3': tensor([0.0000, 0.0000, 4.2721, 6.6979, 8.0015, 8.1194, 7.1571, 6.3141, 5.3202,\n",
            "        4.5059, 3.4358, 1.2210], device='cuda:0', grad_fn=<AddBackward0>), '4': tensor([0.0000, 0.0000, 3.1328, 4.6951, 6.5888, 8.1053, 7.9401, 7.1232, 6.0048,\n",
            "        5.0337, 3.8723, 1.2592], device='cuda:0', grad_fn=<AddBackward0>), '5': tensor([0.0000, 0.0000, 3.8332, 5.6933, 8.0179, 9.2830, 8.7297, 7.7917, 6.6524,\n",
            "        5.6386, 4.4774, 1.6770], device='cuda:0', grad_fn=<AddBackward0>), '6': tensor([0.0000, 0.0000, 1.8791, 3.4591, 5.2362, 6.3055, 6.2095, 5.5128, 4.4865,\n",
            "        3.5269, 2.5734, 0.7101], device='cuda:0', grad_fn=<AddBackward0>), '7': tensor([0.0000, 0.0000, 1.4141, 2.5865, 4.4023, 6.2623, 6.9223, 6.5546, 5.6328,\n",
            "        4.6711, 3.4578, 1.0152], device='cuda:0', grad_fn=<AddBackward0>), '8': tensor([0.0000, 0.0000, 2.6830, 4.6243, 6.4767, 7.5391, 6.9675, 6.0905, 5.0054,\n",
            "        4.1790, 3.1431, 1.0153], device='cuda:0', grad_fn=<AddBackward0>), '9': tensor([0.0000, 0.0000, 6.7367, 7.6991, 7.5958, 7.0041, 6.1542, 5.4166, 4.5053,\n",
            "        3.9180, 3.0823, 1.0267], device='cuda:0', grad_fn=<AddBackward0>), '10': tensor([0.0000, 0.0000, 2.8574, 5.1004, 6.1561, 8.6290, 9.4035, 8.9653, 7.9092,\n",
            "        6.7039, 5.4746, 2.2914], device='cuda:0', grad_fn=<AddBackward0>), '11': tensor([0.0000, 0.0000, 4.8469, 6.6885, 7.4661, 7.0079, 6.0224, 5.2691, 4.3610,\n",
            "        3.6129, 2.7013, 0.8765], device='cuda:0', grad_fn=<AddBackward0>), '12': tensor([0.0000, 0.0000, 2.2621, 4.0183, 6.4061, 8.4735, 8.7200, 7.9654, 6.8030,\n",
            "        5.7702, 4.4631, 1.5911], device='cuda:0', grad_fn=<AddBackward0>)}\n",
            "cwress\n",
            "{'1': tensor([ 2.6536, -1.0748,  0.4015,  1.5767,  0.0702, -0.2460,  0.1536,  0.2904,\n",
            "         0.6891,  1.0987,  2.3780], device='cuda:0', grad_fn=<MvBackward0>), '2': tensor([ 0.0000, -2.9982,  2.7934,  0.7591,  0.1312, -0.5199, -0.4018,  0.0583,\n",
            "         0.1133, -0.7712, -0.6531], device='cuda:0', grad_fn=<MvBackward0>), '3': tensor([ 0.0000,  0.4773,  0.4453,  0.2425, -0.4239,  0.1679, -0.3072, -0.2015,\n",
            "         0.4252,  0.3256, -0.6562], device='cuda:0', grad_fn=<MvBackward0>), '4': tensor([ 0.0000, -2.6882, -0.4378,  1.8896,  0.1082, -0.3669, -0.2054, -0.2380,\n",
            "         0.4084,  0.5040, -0.4175], device='cuda:0', grad_fn=<MvBackward0>), '5': tensor([ 0.0000, -2.8080,  0.1777,  3.2973,  0.2447,  0.2007, -0.0452,  0.6161,\n",
            "         0.4443, -0.0821, -0.2934], device='cuda:0', grad_fn=<MvBackward0>), '6': tensor([ 0.0000, -2.0673, -1.4565,  0.7737, -0.6816, -1.2406, -1.0947, -1.0367,\n",
            "        -0.4440,  0.1607,  0.5425], device='cuda:0', grad_fn=<MvBackward0>), '7': tensor([ 0.5379, -2.1774, -1.3216, -0.0532, -0.5413, -0.3599, -0.1366, -0.5599,\n",
            "        -0.4520,  0.0692,  0.3083], device='cuda:0', grad_fn=<MvBackward0>), '8': tensor([ 0.0000,  0.9313, -2.3069,  0.8369, -0.1743, -0.6279, -0.4866, -0.6119,\n",
            "         0.4171, -0.4702,  0.6793], device='cuda:0', grad_fn=<MvBackward0>), '9': tensor([ 0.0000,  1.6435,  1.1222, -0.9078, -1.1837, -1.0066, -0.0512, -0.7152,\n",
            "         0.0579, -0.0438,  0.2660], device='cuda:0', grad_fn=<MvBackward0>), '10': tensor([ 0.8606, -0.2140, -0.1811, -0.0329, -0.7872,  0.8467,  0.5742,  0.5901,\n",
            "         0.9564,  0.7128,  0.5463], device='cuda:0', grad_fn=<MvBackward0>), '11': tensor([ 0.0000,  0.5850,  0.8232,  0.2409, -0.7008, -0.6731, -0.5427, -0.3153,\n",
            "        -0.4145, -0.4085, -0.2594], device='cuda:0', grad_fn=<MvBackward0>), '12': tensor([ 0.0000, -2.7910, -0.5721,  1.0974,  0.8509,  0.9388,  0.7292, -0.0607,\n",
            "         0.5248,  0.1758, -1.3560], device='cuda:0', grad_fn=<MvBackward0>)}\n",
            "mdv_masks\n",
            "{'1': tensor([False,  True,  True,  True,  True,  True,  True,  True,  True,  True,\n",
            "         True,  True], device='cuda:0'), '2': tensor([False,  True,  True,  True,  True,  True,  True,  True,  True,  True,\n",
            "         True,  True], device='cuda:0'), '3': tensor([False,  True,  True,  True,  True,  True,  True,  True,  True,  True,\n",
            "         True,  True], device='cuda:0'), '4': tensor([False,  True,  True,  True,  True,  True,  True,  True,  True,  True,\n",
            "         True,  True], device='cuda:0'), '5': tensor([False,  True,  True,  True,  True,  True,  True,  True,  True,  True,\n",
            "         True,  True], device='cuda:0'), '6': tensor([False,  True,  True,  True,  True,  True,  True,  True,  True,  True,\n",
            "         True,  True], device='cuda:0'), '7': tensor([False,  True,  True,  True,  True,  True,  True,  True,  True,  True,\n",
            "         True,  True], device='cuda:0'), '8': tensor([False,  True,  True,  True,  True,  True,  True,  True,  True,  True,\n",
            "         True,  True], device='cuda:0'), '9': tensor([False,  True,  True,  True,  True,  True,  True,  True,  True,  True,\n",
            "         True,  True], device='cuda:0'), '10': tensor([False,  True,  True,  True,  True,  True,  True,  True,  True,  True,\n",
            "         True,  True], device='cuda:0'), '11': tensor([False,  True,  True,  True,  True,  True,  True,  True,  True,  True,\n",
            "         True,  True], device='cuda:0'), '12': tensor([False,  True,  True,  True,  True,  True,  True,  True,  True,  True,\n",
            "         True,  True], device='cuda:0')}\n",
            "parameters\n",
            "{'1': {'ID': tensor([1., 1., 1., 1., 1., 1., 1., 1., 1., 1., 1., 1.], device='cuda:0')}, '2': {'ID': tensor([2., 2., 2., 2., 2., 2., 2., 2., 2., 2., 2., 2.], device='cuda:0')}, '3': {'ID': tensor([3., 3., 3., 3., 3., 3., 3., 3., 3., 3., 3., 3.], device='cuda:0')}, '4': {'ID': tensor([4., 4., 4., 4., 4., 4., 4., 4., 4., 4., 4., 4.], device='cuda:0')}, '5': {'ID': tensor([5., 5., 5., 5., 5., 5., 5., 5., 5., 5., 5., 5.], device='cuda:0')}, '6': {'ID': tensor([6., 6., 6., 6., 6., 6., 6., 6., 6., 6., 6., 6.], device='cuda:0')}, '7': {'ID': tensor([7., 7., 7., 7., 7., 7., 7., 7., 7., 7., 7., 7.], device='cuda:0')}, '8': {'ID': tensor([8., 8., 8., 8., 8., 8., 8., 8., 8., 8., 8., 8.], device='cuda:0')}, '9': {'ID': tensor([9., 9., 9., 9., 9., 9., 9., 9., 9., 9., 9., 9.], device='cuda:0')}, '10': {'ID': tensor([10., 10., 10., 10., 10., 10., 10., 10., 10., 10., 10., 10.],\n",
            "       device='cuda:0')}, '11': {'ID': tensor([11., 11., 11., 11., 11., 11., 11., 11., 11., 11., 11., 11.],\n",
            "       device='cuda:0')}, '12': {'ID': tensor([12., 12., 12., 12., 12., 12., 12., 12., 12., 12., 12., 12.],\n",
            "       device='cuda:0')}}\n"
          ]
        }
      ],
      "source": [
        "for k, v in eval_result.items():\n",
        "    print(k)\n",
        "    print(v)"
      ]
    },
    {
      "cell_type": "code",
      "execution_count": 30,
      "metadata": {
        "colab": {
          "base_uri": "https://localhost:8080/"
        },
        "id": "-fTPa6hac9Mu",
        "outputId": "d6d3e40a-03dd-4c62-ba46-3f5661dfc50b"
      },
      "outputs": [
        {
          "name": "stdout",
          "output_type": "stream",
          "text": [
            "id 1\n",
            "id 2\n",
            "id 3\n",
            "id 4\n",
            "id 5\n",
            "id 6\n",
            "id 7\n",
            "id 8\n",
            "id 9\n",
            "id 10\n",
            "id 11\n",
            "id 12\n",
            "{'cov': tensor([[ 3.5381e-03,  2.6930e-02, -1.5606e-04,  1.0025e-03,  8.1969e-05,\n",
            "          9.8195e-05, -2.6368e-06,  1.8273e-04,  3.3684e-04, -3.7654e-04,\n",
            "          3.2088e-03],\n",
            "        [ 2.6944e-02,  3.4335e-01, -1.4766e-03,  1.2936e-03, -3.4559e-03,\n",
            "          1.5987e-04, -3.1178e-03,  1.3260e-03,  2.5517e-03, -1.1136e-03,\n",
            "          1.0306e-02],\n",
            "        [-1.5616e-04, -1.4765e-03,  7.6983e-06, -9.7937e-06,  6.8548e-06,\n",
            "         -3.3033e-06,  5.0711e-06, -8.5786e-06, -1.5246e-05,  1.3997e-05,\n",
            "         -1.1547e-04],\n",
            "        [ 1.0110e-03,  1.3475e-03, -1.0188e-05,  2.5532e-02,  3.2457e-03,\n",
            "          2.3476e-04, -3.5323e-04, -2.2658e-04, -3.5240e-04, -1.8549e-04,\n",
            "         -2.5030e-03],\n",
            "        [ 8.3415e-05, -3.4498e-03,  6.7970e-06,  3.2496e-03,  6.3345e-04,\n",
            "          6.5053e-05,  2.1062e-04, -1.9186e-05, -6.6958e-05, -4.6387e-05,\n",
            "         -1.5792e-04],\n",
            "        [ 9.8598e-05,  1.6066e-04, -3.3172e-06,  2.3595e-04,  6.5213e-05,\n",
            "          1.7780e-05,  3.9218e-05,  1.2811e-05,  1.3253e-05, -1.6898e-05,\n",
            "          1.2432e-04],\n",
            "        [-2.0332e-06, -3.1147e-03,  5.0474e-06, -3.5298e-04,  2.1075e-04,\n",
            "          3.9242e-05,  3.1328e-04,  2.0016e-05, -1.7401e-05, -2.4343e-05,\n",
            "          1.7877e-04],\n",
            "        [ 1.8294e-04,  1.3265e-03, -8.5870e-06, -2.2698e-04, -1.9180e-05,\n",
            "          1.2808e-05,  1.9987e-05,  2.2657e-05,  3.3090e-05, -2.1388e-05,\n",
            "          2.4087e-04],\n",
            "        [ 3.3715e-04,  2.5524e-03, -1.5258e-05, -3.5317e-04, -6.6972e-05,\n",
            "          1.3247e-05, -1.7427e-05,  3.3086e-05,  6.1106e-05, -3.6310e-05,\n",
            "          4.7449e-04],\n",
            "        [-3.7703e-04, -1.1142e-03,  1.4005e-05, -1.8448e-04, -4.6226e-05,\n",
            "         -1.6849e-05, -2.4312e-05, -2.1385e-05, -3.6300e-05,  7.4945e-05,\n",
            "         -5.1990e-04],\n",
            "        [ 3.2113e-03,  1.0312e-02, -1.1549e-04, -2.5093e-03, -1.5846e-04,\n",
            "          1.2414e-04,  1.7829e-04,  2.4085e-04,  4.7446e-04, -5.1967e-04,\n",
            "          5.7365e-03]], device='cuda:0'), 'se': tensor([0.0595, 0.5860, 0.0028, 0.1598, 0.0252, 0.0042, 0.0177, 0.0048, 0.0078,\n",
            "        0.0087, 0.0757], device='cuda:0'), 'cor': tensor([[ 1.0000,  0.7727, -0.9456,  0.1055,  0.0548,  0.3915, -0.0025,  0.6454,\n",
            "          0.7244, -0.7312,  0.7122],\n",
            "        [ 0.7731,  1.0000, -0.9082,  0.0138, -0.2343,  0.0647, -0.3006,  0.4754,\n",
            "          0.5571, -0.2195,  0.2322],\n",
            "        [-0.9462, -0.9082,  1.0000, -0.0221,  0.0982, -0.2823,  0.1033, -0.6496,\n",
            "         -0.7029,  0.5827, -0.5495],\n",
            "        [ 0.1064,  0.0144, -0.0230,  1.0000,  0.8071,  0.3484, -0.1249, -0.2979,\n",
            "         -0.2821, -0.1341, -0.2068],\n",
            "        [ 0.0557, -0.2339,  0.0973,  0.8080,  1.0000,  0.6130,  0.4728, -0.1601,\n",
            "         -0.3403, -0.2129, -0.0828],\n",
            "        [ 0.3931,  0.0650, -0.2835,  0.3502,  0.6145,  1.0000,  0.5255,  0.6383,\n",
            "          0.4021, -0.4629,  0.3893],\n",
            "        [-0.0019, -0.3003,  0.1028, -0.1248,  0.4731,  0.5258,  1.0000,  0.2376,\n",
            "         -0.1258, -0.1589,  0.1334],\n",
            "        [ 0.6461,  0.4756, -0.6502, -0.2984, -0.1601,  0.6381,  0.2372,  1.0000,\n",
            "          0.8893, -0.5190,  0.6681],\n",
            "        [ 0.7251,  0.5572, -0.7035, -0.2827, -0.3404,  0.4019, -0.1260,  0.8892,\n",
            "          1.0000, -0.5366,  0.8014],\n",
            "        [-0.7322, -0.2196,  0.5831, -0.1334, -0.2122, -0.4616, -0.1587, -0.5190,\n",
            "         -0.5364,  1.0000, -0.7929],\n",
            "        [ 0.7128,  0.2323, -0.5496, -0.2073, -0.0831,  0.3887,  0.1330,  0.6681,\n",
            "          0.8014, -0.7926,  1.0000]], device='cuda:0'), 'ei_values': tensor([-3.0066e-04,  3.9966e-05,  4.0063e-03,  1.2276e-02,  1.8734e-02,\n",
            "         1.5998e-01,  5.8384e-01,  8.3105e-01,  1.6290e+00,  2.5722e+00,\n",
            "         5.1892e+00], device='cuda:0'), 'inv_cov': tensor([[ 1.7180e+05, -1.2476e+03,  1.9518e+06,  1.0445e+05, -8.5250e+05,\n",
            "          8.3874e+05, -2.3590e+05,  5.9815e+06, -5.8307e+06,  1.3697e+06,\n",
            "          3.1219e+05],\n",
            "        [-1.2565e+03,  4.7252e+02,  9.3547e+04, -3.1105e+03,  3.1688e+04,\n",
            "         -6.5055e+04, -2.5103e+04,  1.1611e+05, -4.8649e+04, -3.7858e+02,\n",
            "          2.5613e+03],\n",
            "        [ 1.9501e+06,  9.3531e+04,  4.8222e+07,  5.1754e+05, -2.5538e+06,\n",
            "         -6.8183e+06, -9.4706e+06,  1.0588e+08, -8.5823e+07,  1.7404e+07,\n",
            "          4.5450e+06],\n",
            "        [ 1.0473e+05, -3.1056e+03,  5.2149e+05,  1.5915e+05, -1.4347e+06,\n",
            "          2.2666e+06,  5.2000e+05,  1.3526e+06, -3.0303e+06,  7.8472e+05,\n",
            "          1.8748e+05],\n",
            "        [-8.5527e+05,  3.1712e+04, -2.5746e+06, -1.4365e+06,  1.3123e+07,\n",
            "         -2.1604e+07, -5.4018e+06, -5.7165e+06,  2.2663e+07, -6.0922e+06,\n",
            "         -1.4500e+06],\n",
            "        [ 8.4959e+05, -6.5205e+04, -6.7391e+06,  2.2775e+06, -2.1671e+07,\n",
            "          4.0250e+07,  1.2174e+07, -2.4208e+07, -1.2021e+07,  4.5476e+06,\n",
            "          1.0806e+06],\n",
            "        [-2.3427e+05, -2.5096e+04, -9.4577e+06,  5.2180e+05, -5.4035e+06,\n",
            "          1.2165e+07,  5.6501e+06, -3.0629e+07,  1.6432e+07, -3.0757e+06,\n",
            "         -7.2475e+05],\n",
            "        [ 5.9713e+06,  1.1592e+05,  1.0578e+08,  1.3299e+06, -5.5738e+06,\n",
            "         -2.4572e+07, -3.0694e+07,  3.2426e+08, -2.5973e+08,  5.6568e+07,\n",
            "          1.3488e+07],\n",
            "        [-5.8332e+06, -4.8396e+04, -8.5853e+07, -3.0141e+06,  2.2538e+07,\n",
            "         -1.1579e+07,  1.6520e+07, -2.6019e+08,  2.3412e+08, -5.2567e+07,\n",
            "         -1.2545e+07],\n",
            "        [ 1.3729e+06, -4.1491e+02,  1.7427e+07,  7.8310e+05, -6.0769e+06,\n",
            "          4.4499e+06, -3.1029e+06,  5.6813e+07, -5.2669e+07,  1.2165e+07,\n",
            "          2.8332e+06],\n",
            "        [ 3.1208e+05,  2.5677e+03,  4.5444e+06,  1.8682e+05, -1.4444e+06,\n",
            "          1.0576e+06, -7.2863e+05,  1.3517e+07, -1.2548e+07,  2.8275e+06,\n",
            "          6.8122e+05]], device='cuda:0'), 'r_mat': tensor([[ 3.1843e+02, -2.0380e+01,  5.5039e+02, -3.2211e-01, -8.3471e+00,\n",
            "          4.4029e+01,  9.1808e+00, -6.8976e+01,  2.6211e+01,  8.1193e+02,\n",
            "         -7.0156e+01],\n",
            "        [-2.0379e+01,  5.3794e+00,  7.7280e+02, -6.0831e-02,  7.1640e-01,\n",
            "         -2.4700e+00, -6.9049e-01,  4.8126e+00, -2.6252e+00, -1.7945e+02,\n",
            "          9.7976e-01],\n",
            "        [ 5.5034e+02,  7.7281e+02,  2.4872e+05, -6.7820e+00,  1.5588e+02,\n",
            "         -7.7696e+02, -1.0902e+01,  4.6822e+02,  1.7448e+02, -2.0403e+04,\n",
            "         -7.1388e+02],\n",
            "        [-3.2129e-01, -6.0909e-02, -6.7840e+00,  2.1492e+02, -1.7263e+03,\n",
            "          2.9877e+03,  9.7980e+02, -2.9066e+03,  5.6445e+02, -1.6612e+02,\n",
            "         -1.2716e+01],\n",
            "        [-8.3601e+00,  7.1760e-01,  1.5599e+02, -1.7279e+03,  1.8082e+04,\n",
            "         -4.1193e+04, -9.2530e+03,  3.6935e+04, -5.6799e+03,  1.8229e+03,\n",
            "          1.4984e+02],\n",
            "        [ 4.4155e+01, -2.4714e+00, -7.7718e+02,  2.9942e+03, -4.1242e+04,\n",
            "          1.4169e+05,  1.7322e+04, -1.1541e+05,  1.1893e+04, -6.5165e+03,\n",
            "         -5.1595e+02],\n",
            "        [ 9.2060e+00, -6.9097e-01, -1.0957e+01,  9.7998e+02, -9.2452e+03,\n",
            "          1.7280e+04,  8.0368e+03, -2.8037e+04,  9.9733e+03, -1.0498e+03,\n",
            "         -1.4428e+02],\n",
            "        [-6.9006e+01,  4.8102e+00,  4.6921e+02, -2.9099e+03,  3.6943e+04,\n",
            "         -1.1531e+05, -2.8057e+04,  1.7660e+05, -5.5991e+04,  7.6816e+03,\n",
            "          1.0045e+03],\n",
            "        [ 2.6247e+01, -2.6257e+00,  1.7454e+02,  5.6606e+02, -5.6886e+03,\n",
            "          1.1899e+04,  9.9838e+03, -5.6026e+04,  4.0414e+04, -2.9837e+03,\n",
            "         -5.4823e+02],\n",
            "        [ 8.1281e+02, -1.7951e+02, -2.0410e+04, -1.6625e+02,  1.8214e+03,\n",
            "         -6.5237e+03, -1.0501e+03,  7.6976e+03, -2.9882e+03,  9.8900e+04,\n",
            "          6.5319e+03],\n",
            "        [-7.0173e+01,  9.8164e-01, -7.1376e+02, -1.2711e+01,  1.4970e+02,\n",
            "         -5.1619e+02, -1.4423e+02,  1.0054e+03, -5.4823e+02,  6.5319e+03,\n",
            "          1.1986e+03]], device='cuda:0'), 's_mat': tensor([[ 1.8643e+01, -2.1730e+00,  2.1862e+02, -3.6343e+00,  1.3579e+02,\n",
            "         -2.9159e+02,  2.1803e+01, -6.7771e+01, -4.1698e+01,  3.5515e+02,\n",
            "         -3.4479e+01],\n",
            "        [-2.1730e+00,  6.5687e-01, -3.0182e+01,  3.0264e+00, -2.3958e+01,\n",
            "          2.6161e+01, -5.2615e+00,  3.8457e+01, -6.1861e+00, -1.6519e+02,\n",
            "         -1.0407e+01],\n",
            "        [ 2.1862e+02, -3.0182e+01,  4.2053e+04,  2.5935e+02, -2.2659e+03,\n",
            "          8.3876e+03, -6.9370e+02, -6.3437e+03, -1.5532e+04,  3.7529e+04,\n",
            "         -6.1853e+03],\n",
            "        [-3.6343e+00,  3.0264e+00,  2.5935e+02,  4.4311e+01, -1.9174e+02,\n",
            "          2.4234e+02, -4.8323e+01,  2.2130e+02, -2.1700e+02, -8.7886e+02,\n",
            "         -1.5207e+02],\n",
            "        [ 1.3579e+02, -2.3958e+01, -2.2659e+03, -1.9174e+02,  2.5357e+03,\n",
            "         -5.6714e+03,  3.7810e+02, -1.2654e+02,  1.0108e+03, -4.7541e+03,\n",
            "          1.1872e+02],\n",
            "        [-2.9159e+02,  2.6161e+01,  8.3876e+03,  2.4234e+02, -5.6714e+03,\n",
            "          1.7260e+04, -6.6236e+02, -3.3309e+03, -2.4272e+03,  1.7903e+04,\n",
            "          1.4758e+02],\n",
            "        [ 2.1803e+01, -5.2615e+00, -6.9370e+02, -4.8323e+01,  3.7810e+02,\n",
            "         -6.6236e+02,  1.4091e+02, -2.1271e+02,  6.0633e+02,  1.3544e+03,\n",
            "          2.9893e+02],\n",
            "        [-6.7771e+01,  3.8457e+01, -6.3437e+03,  2.2130e+02, -1.2654e+02,\n",
            "         -3.3309e+03, -2.1271e+02,  6.8452e+03, -7.5773e+02, -2.3314e+04,\n",
            "         -1.8270e+03],\n",
            "        [-4.1698e+01, -6.1861e+00, -1.5532e+04, -2.1700e+02,  1.0108e+03,\n",
            "         -2.4272e+03,  6.0633e+02, -7.5773e+02,  9.2421e+03, -1.7794e+03,\n",
            "          4.6920e+03],\n",
            "        [ 3.5515e+02, -1.6519e+02,  3.7529e+04, -8.7886e+02, -4.7541e+03,\n",
            "          1.7903e+04,  1.3544e+03, -2.3314e+04, -1.7794e+03,  2.7198e+05,\n",
            "          1.0866e+04],\n",
            "        [-3.4479e+01, -1.0407e+01, -6.1853e+03, -1.5207e+02,  1.1872e+02,\n",
            "          1.4758e+02,  2.9893e+02, -1.8270e+03,  4.6920e+03,  1.0866e+04,\n",
            "          3.0351e+03]], device='cuda:0')}\n"
          ]
        }
      ],
      "source": [
        "cov_result = model.descale().covariance_step()\n",
        "print(cov_result)"
      ]
    },
    {
      "cell_type": "code",
      "execution_count": 31,
      "metadata": {
        "colab": {
          "base_uri": "https://localhost:8080/"
        },
        "id": "cHHHbiLlc-gK",
        "outputId": "a7359835-5d14-40c2-92cc-2642124f6da1"
      },
      "outputs": [
        {
          "name": "stdout",
          "output_type": "stream",
          "text": [
            "pred_function_module.theta_0.parameter_value\n"
          ]
        },
        {
          "ename": "TypeError",
          "evalue": "can't convert cuda:0 device type tensor to numpy. Use Tensor.cpu() to copy the tensor to host memory first.",
          "output_type": "error",
          "traceback": [
            "\u001b[1;31m---------------------------------------------------------------------------\u001b[0m",
            "\u001b[1;31mTypeError\u001b[0m                                 Traceback (most recent call last)",
            "\u001b[1;32m~\\AppData\\Local\\Temp/ipykernel_29476/1593340417.py\u001b[0m in \u001b[0;36m<module>\u001b[1;34m\u001b[0m\n\u001b[0;32m      1\u001b[0m \u001b[1;32mfor\u001b[0m \u001b[1;33m(\u001b[0m\u001b[0mname\u001b[0m\u001b[1;33m,\u001b[0m \u001b[0mpara\u001b[0m\u001b[1;33m)\u001b[0m \u001b[1;32min\u001b[0m \u001b[0mmodel\u001b[0m\u001b[1;33m.\u001b[0m\u001b[0mnamed_parameters\u001b[0m\u001b[1;33m(\u001b[0m\u001b[1;33m)\u001b[0m\u001b[1;33m:\u001b[0m\u001b[1;33m\u001b[0m\u001b[1;33m\u001b[0m\u001b[0m\n\u001b[0;32m      2\u001b[0m     \u001b[0mprint\u001b[0m\u001b[1;33m(\u001b[0m\u001b[0mname\u001b[0m\u001b[1;33m)\u001b[0m\u001b[1;33m\u001b[0m\u001b[1;33m\u001b[0m\u001b[0m\n\u001b[1;32m----> 3\u001b[1;33m     \u001b[0mprint\u001b[0m\u001b[1;33m(\u001b[0m\u001b[0mpara\u001b[0m\u001b[1;33m.\u001b[0m\u001b[0mdetach\u001b[0m\u001b[1;33m(\u001b[0m\u001b[1;33m)\u001b[0m\u001b[1;33m.\u001b[0m\u001b[0mnumpy\u001b[0m\u001b[1;33m(\u001b[0m\u001b[1;33m)\u001b[0m\u001b[1;33m)\u001b[0m\u001b[1;33m\u001b[0m\u001b[1;33m\u001b[0m\u001b[0m\n\u001b[0m",
            "\u001b[1;31mTypeError\u001b[0m: can't convert cuda:0 device type tensor to numpy. Use Tensor.cpu() to copy the tensor to host memory first."
          ]
        }
      ],
      "source": [
        "for (name, para) in model.named_parameters():\n",
        "    print(name)\n",
        "    print(para.detach().clone().to('cpu').numpy())"
      ]
    },
    {
      "cell_type": "markdown",
      "metadata": {
        "id": "LT4CausXBATw"
      },
      "source": [
        "#Simulation"
      ]
    },
    {
      "cell_type": "code",
      "execution_count": 22,
      "metadata": {
        "colab": {
          "base_uri": "https://localhost:8080/",
          "height": 1000
        },
        "id": "xM7WITN9c_pA",
        "outputId": "fdf00ec8-4b16-4293-9a91-e76b11fdb296"
      },
      "outputs": [
        {
          "ename": "RuntimeError",
          "evalue": "Expected all tensors to be on the same device, but found at least two devices, cuda:0 and cpu! (when checking argument for argument mat2 in method wrapper_mm)",
          "output_type": "error",
          "traceback": [
            "\u001b[1;31m---------------------------------------------------------------------------\u001b[0m",
            "\u001b[1;31mRuntimeError\u001b[0m                              Traceback (most recent call last)",
            "\u001b[1;32m~\\AppData\\Local\\Temp/ipykernel_29476/2397102686.py\u001b[0m in \u001b[0;36m<module>\u001b[1;34m\u001b[0m\n\u001b[0;32m      1\u001b[0m \u001b[0mtc\u001b[0m\u001b[1;33m.\u001b[0m\u001b[0mmanual_seed\u001b[0m\u001b[1;33m(\u001b[0m\u001b[1;36m42\u001b[0m\u001b[1;33m)\u001b[0m\u001b[1;33m\u001b[0m\u001b[1;33m\u001b[0m\u001b[0m\n\u001b[1;32m----> 2\u001b[1;33m \u001b[0msimulation_result\u001b[0m \u001b[1;33m=\u001b[0m \u001b[0mmodel\u001b[0m\u001b[1;33m.\u001b[0m\u001b[0msimulate\u001b[0m\u001b[1;33m(\u001b[0m\u001b[0mdataset\u001b[0m\u001b[1;33m,\u001b[0m \u001b[1;36m300\u001b[0m\u001b[1;33m)\u001b[0m\u001b[1;33m\u001b[0m\u001b[1;33m\u001b[0m\u001b[0m\n\u001b[0m\u001b[0;32m      3\u001b[0m \u001b[1;33m\u001b[0m\u001b[0m\n\u001b[0;32m      4\u001b[0m \u001b[1;32mfor\u001b[0m \u001b[0mid\u001b[0m\u001b[1;33m,\u001b[0m \u001b[0mtime_data\u001b[0m \u001b[1;32min\u001b[0m \u001b[0msimulation_result\u001b[0m\u001b[1;33m[\u001b[0m\u001b[1;34m'times'\u001b[0m\u001b[1;33m]\u001b[0m\u001b[1;33m.\u001b[0m\u001b[0mitems\u001b[0m\u001b[1;33m(\u001b[0m\u001b[1;33m)\u001b[0m \u001b[1;33m:\u001b[0m\u001b[1;33m\u001b[0m\u001b[1;33m\u001b[0m\u001b[0m\n\u001b[0;32m      5\u001b[0m     \u001b[0mfig\u001b[0m \u001b[1;33m=\u001b[0m \u001b[0mplt\u001b[0m\u001b[1;33m.\u001b[0m\u001b[0mfigure\u001b[0m\u001b[1;33m(\u001b[0m\u001b[1;33m)\u001b[0m\u001b[1;33m\u001b[0m\u001b[1;33m\u001b[0m\u001b[0m\n",
            "\u001b[1;32m~\\AppData\\Local\\Programs\\Python\\Python39\\lib\\site-packages\\torchpm\\models.py\u001b[0m in \u001b[0;36msimulate\u001b[1;34m(self, dataset, repeat)\u001b[0m\n\u001b[0;32m    349\u001b[0m         \u001b[0meta_size\u001b[0m \u001b[1;33m=\u001b[0m \u001b[0mlen\u001b[0m\u001b[1;33m(\u001b[0m\u001b[0meta_parameter_values\u001b[0m\u001b[1;33m)\u001b[0m\u001b[1;33m\u001b[0m\u001b[1;33m\u001b[0m\u001b[0m\n\u001b[0;32m    350\u001b[0m         \u001b[0mmvn_eta\u001b[0m \u001b[1;33m=\u001b[0m \u001b[0mtc\u001b[0m\u001b[1;33m.\u001b[0m\u001b[0mdistributions\u001b[0m\u001b[1;33m.\u001b[0m\u001b[0mmultivariate_normal\u001b[0m\u001b[1;33m.\u001b[0m\u001b[0mMultivariateNormal\u001b[0m\u001b[1;33m(\u001b[0m\u001b[0mtc\u001b[0m\u001b[1;33m.\u001b[0m\u001b[0mzeros\u001b[0m\u001b[1;33m(\u001b[0m\u001b[0meta_size\u001b[0m\u001b[1;33m,\u001b[0m \u001b[0mdevice\u001b[0m\u001b[1;33m=\u001b[0m\u001b[0mdataset\u001b[0m\u001b[1;33m.\u001b[0m\u001b[0mdevice\u001b[0m\u001b[1;33m)\u001b[0m\u001b[1;33m,\u001b[0m \u001b[0momega\u001b[0m\u001b[1;33m)\u001b[0m\u001b[1;33m\u001b[0m\u001b[1;33m\u001b[0m\u001b[0m\n\u001b[1;32m--> 351\u001b[1;33m         \u001b[0metas\u001b[0m \u001b[1;33m=\u001b[0m \u001b[0mmvn_eta\u001b[0m\u001b[1;33m.\u001b[0m\u001b[0mrsample\u001b[0m\u001b[1;33m(\u001b[0m\u001b[0mtc\u001b[0m\u001b[1;33m.\u001b[0m\u001b[0mtensor\u001b[0m\u001b[1;33m(\u001b[0m\u001b[1;33m[\u001b[0m\u001b[0mlen\u001b[0m\u001b[1;33m(\u001b[0m\u001b[0mdataset\u001b[0m\u001b[1;33m)\u001b[0m\u001b[1;33m,\u001b[0m \u001b[0mrepeat\u001b[0m\u001b[1;33m]\u001b[0m\u001b[1;33m,\u001b[0m \u001b[0mdevice\u001b[0m\u001b[1;33m=\u001b[0m\u001b[0mdataset\u001b[0m\u001b[1;33m.\u001b[0m\u001b[0mdevice\u001b[0m\u001b[1;33m)\u001b[0m\u001b[1;33m)\u001b[0m\u001b[1;33m\u001b[0m\u001b[1;33m\u001b[0m\u001b[0m\n\u001b[0m\u001b[0;32m    352\u001b[0m \u001b[1;33m\u001b[0m\u001b[0m\n\u001b[0;32m    353\u001b[0m         \u001b[0meps_names\u001b[0m \u001b[1;33m=\u001b[0m \u001b[0mlist\u001b[0m\u001b[1;33m(\u001b[0m\u001b[0mitertools\u001b[0m\u001b[1;33m.\u001b[0m\u001b[0mchain\u001b[0m\u001b[1;33m(\u001b[0m\u001b[1;33m*\u001b[0m\u001b[0mself\u001b[0m\u001b[1;33m.\u001b[0m\u001b[0meps_names\u001b[0m\u001b[1;33m)\u001b[0m\u001b[1;33m)\u001b[0m\u001b[1;33m\u001b[0m\u001b[1;33m\u001b[0m\u001b[0m\n",
            "\u001b[1;32m~\\AppData\\Local\\Programs\\Python\\Python39\\lib\\site-packages\\torch\\distributions\\multivariate_normal.py\u001b[0m in \u001b[0;36mrsample\u001b[1;34m(self, sample_shape)\u001b[0m\n\u001b[0;32m    200\u001b[0m         \u001b[0mshape\u001b[0m \u001b[1;33m=\u001b[0m \u001b[0mself\u001b[0m\u001b[1;33m.\u001b[0m\u001b[0m_extended_shape\u001b[0m\u001b[1;33m(\u001b[0m\u001b[0msample_shape\u001b[0m\u001b[1;33m)\u001b[0m\u001b[1;33m\u001b[0m\u001b[1;33m\u001b[0m\u001b[0m\n\u001b[0;32m    201\u001b[0m         \u001b[0meps\u001b[0m \u001b[1;33m=\u001b[0m \u001b[0m_standard_normal\u001b[0m\u001b[1;33m(\u001b[0m\u001b[0mshape\u001b[0m\u001b[1;33m,\u001b[0m \u001b[0mdtype\u001b[0m\u001b[1;33m=\u001b[0m\u001b[0mself\u001b[0m\u001b[1;33m.\u001b[0m\u001b[0mloc\u001b[0m\u001b[1;33m.\u001b[0m\u001b[0mdtype\u001b[0m\u001b[1;33m,\u001b[0m \u001b[0mdevice\u001b[0m\u001b[1;33m=\u001b[0m\u001b[0mself\u001b[0m\u001b[1;33m.\u001b[0m\u001b[0mloc\u001b[0m\u001b[1;33m.\u001b[0m\u001b[0mdevice\u001b[0m\u001b[1;33m)\u001b[0m\u001b[1;33m\u001b[0m\u001b[1;33m\u001b[0m\u001b[0m\n\u001b[1;32m--> 202\u001b[1;33m         \u001b[1;32mreturn\u001b[0m \u001b[0mself\u001b[0m\u001b[1;33m.\u001b[0m\u001b[0mloc\u001b[0m \u001b[1;33m+\u001b[0m \u001b[0m_batch_mv\u001b[0m\u001b[1;33m(\u001b[0m\u001b[0mself\u001b[0m\u001b[1;33m.\u001b[0m\u001b[0m_unbroadcasted_scale_tril\u001b[0m\u001b[1;33m,\u001b[0m \u001b[0meps\u001b[0m\u001b[1;33m)\u001b[0m\u001b[1;33m\u001b[0m\u001b[1;33m\u001b[0m\u001b[0m\n\u001b[0m\u001b[0;32m    203\u001b[0m \u001b[1;33m\u001b[0m\u001b[0m\n\u001b[0;32m    204\u001b[0m     \u001b[1;32mdef\u001b[0m \u001b[0mlog_prob\u001b[0m\u001b[1;33m(\u001b[0m\u001b[0mself\u001b[0m\u001b[1;33m,\u001b[0m \u001b[0mvalue\u001b[0m\u001b[1;33m)\u001b[0m\u001b[1;33m:\u001b[0m\u001b[1;33m\u001b[0m\u001b[1;33m\u001b[0m\u001b[0m\n",
            "\u001b[1;32m~\\AppData\\Local\\Programs\\Python\\Python39\\lib\\site-packages\\torch\\distributions\\multivariate_normal.py\u001b[0m in \u001b[0;36m_batch_mv\u001b[1;34m(bmat, bvec)\u001b[0m\n\u001b[0;32m     18\u001b[0m     \u001b[0mjust\u001b[0m \u001b[0mones\u001b[0m \u001b[0mwhich\u001b[0m \u001b[0mcan\u001b[0m \u001b[0mbe\u001b[0m \u001b[0mbroadcasted\u001b[0m\u001b[1;33m.\u001b[0m\u001b[1;33m\u001b[0m\u001b[1;33m\u001b[0m\u001b[0m\n\u001b[0;32m     19\u001b[0m     \"\"\"\n\u001b[1;32m---> 20\u001b[1;33m     \u001b[1;32mreturn\u001b[0m \u001b[0mtorch\u001b[0m\u001b[1;33m.\u001b[0m\u001b[0mmatmul\u001b[0m\u001b[1;33m(\u001b[0m\u001b[0mbmat\u001b[0m\u001b[1;33m,\u001b[0m \u001b[0mbvec\u001b[0m\u001b[1;33m.\u001b[0m\u001b[0munsqueeze\u001b[0m\u001b[1;33m(\u001b[0m\u001b[1;33m-\u001b[0m\u001b[1;36m1\u001b[0m\u001b[1;33m)\u001b[0m\u001b[1;33m)\u001b[0m\u001b[1;33m.\u001b[0m\u001b[0msqueeze\u001b[0m\u001b[1;33m(\u001b[0m\u001b[1;33m-\u001b[0m\u001b[1;36m1\u001b[0m\u001b[1;33m)\u001b[0m\u001b[1;33m\u001b[0m\u001b[1;33m\u001b[0m\u001b[0m\n\u001b[0m\u001b[0;32m     21\u001b[0m \u001b[1;33m\u001b[0m\u001b[0m\n\u001b[0;32m     22\u001b[0m \u001b[1;33m\u001b[0m\u001b[0m\n",
            "\u001b[1;31mRuntimeError\u001b[0m: Expected all tensors to be on the same device, but found at least two devices, cuda:0 and cpu! (when checking argument for argument mat2 in method wrapper_mm)"
          ]
        }
      ],
      "source": [
        "tc.manual_seed(42)\n",
        "simulation_result = model.simulate(dataset, 300)\n",
        "\n",
        "for id, time_data in simulation_result['times'].items() :\n",
        "    fig = plt.figure()\n",
        "    ax = fig.add_subplot(1, 1, 1)\n",
        "    print('id', id)\n",
        "    \n",
        "    p95 = np.percentile(tc.stack(simulation_result['preds'][id]).to('cpu'), 95, 0)\n",
        "    p50 = np.percentile(tc.stack(simulation_result['preds'][id]).to('cpu'), 50, 0)\n",
        "    average = np.average(tc.stack(simulation_result['preds'][id]).to('cpu'), 0)\n",
        "    p5 = np.percentile(tc.stack(simulation_result['preds'][id]).to('cpu'), 5, 0)\n",
        "    \n",
        "    ax.plot(time_data.to('cpu'), p95, color=\"black\")\n",
        "    ax.plot(time_data.to('cpu'), p50, color=\"green\")\n",
        "    ax.plot(time_data.to('cpu'), average, color=\"red\")\n",
        "    ax.plot(time_data.to('cpu'), p5, color=\"black\")\n",
        "    \n",
        "    for y_pred in simulation_result['preds'][id] :\n",
        "        ax.plot(time_data.to('cpu'), y_pred.detach().to('cpu'), marker='.', linestyle='', color='gray')\n",
        "    plt.show()"
      ]
    }
  ],
  "metadata": {
    "colab": {
      "authorship_tag": "ABX9TyM4W1KPEkelAM2Vf6SFmZfb",
      "collapsed_sections": [],
      "include_colab_link": true,
      "name": "torchpm test.ipynb",
      "provenance": []
    },
    "kernelspec": {
      "display_name": "Python 3",
      "name": "python3"
    },
    "language_info": {
      "codemirror_mode": {
        "name": "ipython",
        "version": 3
      },
      "file_extension": ".py",
      "mimetype": "text/x-python",
      "name": "python",
      "nbconvert_exporter": "python",
      "pygments_lexer": "ipython3",
      "version": "3.9.7"
    }
  },
  "nbformat": 4,
  "nbformat_minor": 0
}
